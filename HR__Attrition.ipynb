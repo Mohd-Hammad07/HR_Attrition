{
  "nbformat": 4,
  "nbformat_minor": 0,
  "metadata": {
    "colab": {
      "provenance": []
    },
    "kernelspec": {
      "name": "python3",
      "display_name": "Python 3"
    },
    "language_info": {
      "name": "python"
    }
  },
  "cells": [
    {
      "cell_type": "code",
      "execution_count": 4,
      "metadata": {
        "id": "4VGA__R7AZNL"
      },
      "outputs": [],
      "source": [
        "import numpy as np\n",
        "import pandas as pd\n",
        "import matplotlib.pyplot as plt\n",
        "import seaborn as sns\n",
        "import warnings\n",
        "warnings.filterwarnings(\"ignore\")"
      ]
    },
    {
      "cell_type": "code",
      "source": [
        "data=pd.read_csv('/HR Attrition.csv')"
      ],
      "metadata": {
        "id": "qWMc6xdHDBAD"
      },
      "execution_count": 12,
      "outputs": []
    },
    {
      "cell_type": "code",
      "source": [
        "data.head()"
      ],
      "metadata": {
        "colab": {
          "base_uri": "https://localhost:8080/",
          "height": 325
        },
        "id": "jXWvuPPtDqKB",
        "outputId": "5cd0ae1b-447f-4f9a-de82-cf91cdbe3b61"
      },
      "execution_count": null,
      "outputs": [
        {
          "output_type": "execute_result",
          "data": {
            "text/plain": [
              "   Age Attrition     BusinessTravel  DailyRate              Department  \\\n",
              "0   41       Yes      Travel_Rarely       1102                   Sales   \n",
              "1   49        No  Travel_Frequently        279  Research & Development   \n",
              "2   37       Yes      Travel_Rarely       1373  Research & Development   \n",
              "3   33        No  Travel_Frequently       1392  Research & Development   \n",
              "4   27        No      Travel_Rarely        591  Research & Development   \n",
              "\n",
              "   DistanceFromHome  Education EducationField  EmployeeCount  EmployeeNumber  \\\n",
              "0                 1          2  Life Sciences              1               1   \n",
              "1                 8          1  Life Sciences              1               2   \n",
              "2                 2          2          Other              1               4   \n",
              "3                 3          4  Life Sciences              1               5   \n",
              "4                 2          1        Medical              1               7   \n",
              "\n",
              "   ...  RelationshipSatisfaction StandardHours  StockOptionLevel  \\\n",
              "0  ...                         1            80                 0   \n",
              "1  ...                         4            80                 1   \n",
              "2  ...                         2            80                 0   \n",
              "3  ...                         3            80                 0   \n",
              "4  ...                         4            80                 1   \n",
              "\n",
              "   TotalWorkingYears  TrainingTimesLastYear WorkLifeBalance  YearsAtCompany  \\\n",
              "0                  8                      0               1               6   \n",
              "1                 10                      3               3              10   \n",
              "2                  7                      3               3               0   \n",
              "3                  8                      3               3               8   \n",
              "4                  6                      3               3               2   \n",
              "\n",
              "  YearsInCurrentRole  YearsSinceLastPromotion  YearsWithCurrManager  \n",
              "0                  4                        0                     5  \n",
              "1                  7                        1                     7  \n",
              "2                  0                        0                     0  \n",
              "3                  7                        3                     0  \n",
              "4                  2                        2                     2  \n",
              "\n",
              "[5 rows x 35 columns]"
            ],
            "text/html": [
              "\n",
              "  <div id=\"df-bcee8b51-debd-41f5-84cb-b12339076504\" class=\"colab-df-container\">\n",
              "    <div>\n",
              "<style scoped>\n",
              "    .dataframe tbody tr th:only-of-type {\n",
              "        vertical-align: middle;\n",
              "    }\n",
              "\n",
              "    .dataframe tbody tr th {\n",
              "        vertical-align: top;\n",
              "    }\n",
              "\n",
              "    .dataframe thead th {\n",
              "        text-align: right;\n",
              "    }\n",
              "</style>\n",
              "<table border=\"1\" class=\"dataframe\">\n",
              "  <thead>\n",
              "    <tr style=\"text-align: right;\">\n",
              "      <th></th>\n",
              "      <th>Age</th>\n",
              "      <th>Attrition</th>\n",
              "      <th>BusinessTravel</th>\n",
              "      <th>DailyRate</th>\n",
              "      <th>Department</th>\n",
              "      <th>DistanceFromHome</th>\n",
              "      <th>Education</th>\n",
              "      <th>EducationField</th>\n",
              "      <th>EmployeeCount</th>\n",
              "      <th>EmployeeNumber</th>\n",
              "      <th>...</th>\n",
              "      <th>RelationshipSatisfaction</th>\n",
              "      <th>StandardHours</th>\n",
              "      <th>StockOptionLevel</th>\n",
              "      <th>TotalWorkingYears</th>\n",
              "      <th>TrainingTimesLastYear</th>\n",
              "      <th>WorkLifeBalance</th>\n",
              "      <th>YearsAtCompany</th>\n",
              "      <th>YearsInCurrentRole</th>\n",
              "      <th>YearsSinceLastPromotion</th>\n",
              "      <th>YearsWithCurrManager</th>\n",
              "    </tr>\n",
              "  </thead>\n",
              "  <tbody>\n",
              "    <tr>\n",
              "      <th>0</th>\n",
              "      <td>41</td>\n",
              "      <td>Yes</td>\n",
              "      <td>Travel_Rarely</td>\n",
              "      <td>1102</td>\n",
              "      <td>Sales</td>\n",
              "      <td>1</td>\n",
              "      <td>2</td>\n",
              "      <td>Life Sciences</td>\n",
              "      <td>1</td>\n",
              "      <td>1</td>\n",
              "      <td>...</td>\n",
              "      <td>1</td>\n",
              "      <td>80</td>\n",
              "      <td>0</td>\n",
              "      <td>8</td>\n",
              "      <td>0</td>\n",
              "      <td>1</td>\n",
              "      <td>6</td>\n",
              "      <td>4</td>\n",
              "      <td>0</td>\n",
              "      <td>5</td>\n",
              "    </tr>\n",
              "    <tr>\n",
              "      <th>1</th>\n",
              "      <td>49</td>\n",
              "      <td>No</td>\n",
              "      <td>Travel_Frequently</td>\n",
              "      <td>279</td>\n",
              "      <td>Research &amp; Development</td>\n",
              "      <td>8</td>\n",
              "      <td>1</td>\n",
              "      <td>Life Sciences</td>\n",
              "      <td>1</td>\n",
              "      <td>2</td>\n",
              "      <td>...</td>\n",
              "      <td>4</td>\n",
              "      <td>80</td>\n",
              "      <td>1</td>\n",
              "      <td>10</td>\n",
              "      <td>3</td>\n",
              "      <td>3</td>\n",
              "      <td>10</td>\n",
              "      <td>7</td>\n",
              "      <td>1</td>\n",
              "      <td>7</td>\n",
              "    </tr>\n",
              "    <tr>\n",
              "      <th>2</th>\n",
              "      <td>37</td>\n",
              "      <td>Yes</td>\n",
              "      <td>Travel_Rarely</td>\n",
              "      <td>1373</td>\n",
              "      <td>Research &amp; Development</td>\n",
              "      <td>2</td>\n",
              "      <td>2</td>\n",
              "      <td>Other</td>\n",
              "      <td>1</td>\n",
              "      <td>4</td>\n",
              "      <td>...</td>\n",
              "      <td>2</td>\n",
              "      <td>80</td>\n",
              "      <td>0</td>\n",
              "      <td>7</td>\n",
              "      <td>3</td>\n",
              "      <td>3</td>\n",
              "      <td>0</td>\n",
              "      <td>0</td>\n",
              "      <td>0</td>\n",
              "      <td>0</td>\n",
              "    </tr>\n",
              "    <tr>\n",
              "      <th>3</th>\n",
              "      <td>33</td>\n",
              "      <td>No</td>\n",
              "      <td>Travel_Frequently</td>\n",
              "      <td>1392</td>\n",
              "      <td>Research &amp; Development</td>\n",
              "      <td>3</td>\n",
              "      <td>4</td>\n",
              "      <td>Life Sciences</td>\n",
              "      <td>1</td>\n",
              "      <td>5</td>\n",
              "      <td>...</td>\n",
              "      <td>3</td>\n",
              "      <td>80</td>\n",
              "      <td>0</td>\n",
              "      <td>8</td>\n",
              "      <td>3</td>\n",
              "      <td>3</td>\n",
              "      <td>8</td>\n",
              "      <td>7</td>\n",
              "      <td>3</td>\n",
              "      <td>0</td>\n",
              "    </tr>\n",
              "    <tr>\n",
              "      <th>4</th>\n",
              "      <td>27</td>\n",
              "      <td>No</td>\n",
              "      <td>Travel_Rarely</td>\n",
              "      <td>591</td>\n",
              "      <td>Research &amp; Development</td>\n",
              "      <td>2</td>\n",
              "      <td>1</td>\n",
              "      <td>Medical</td>\n",
              "      <td>1</td>\n",
              "      <td>7</td>\n",
              "      <td>...</td>\n",
              "      <td>4</td>\n",
              "      <td>80</td>\n",
              "      <td>1</td>\n",
              "      <td>6</td>\n",
              "      <td>3</td>\n",
              "      <td>3</td>\n",
              "      <td>2</td>\n",
              "      <td>2</td>\n",
              "      <td>2</td>\n",
              "      <td>2</td>\n",
              "    </tr>\n",
              "  </tbody>\n",
              "</table>\n",
              "<p>5 rows × 35 columns</p>\n",
              "</div>\n",
              "    <div class=\"colab-df-buttons\">\n",
              "\n",
              "  <div class=\"colab-df-container\">\n",
              "    <button class=\"colab-df-convert\" onclick=\"convertToInteractive('df-bcee8b51-debd-41f5-84cb-b12339076504')\"\n",
              "            title=\"Convert this dataframe to an interactive table.\"\n",
              "            style=\"display:none;\">\n",
              "\n",
              "  <svg xmlns=\"http://www.w3.org/2000/svg\" height=\"24px\" viewBox=\"0 -960 960 960\">\n",
              "    <path d=\"M120-120v-720h720v720H120Zm60-500h600v-160H180v160Zm220 220h160v-160H400v160Zm0 220h160v-160H400v160ZM180-400h160v-160H180v160Zm440 0h160v-160H620v160ZM180-180h160v-160H180v160Zm440 0h160v-160H620v160Z\"/>\n",
              "  </svg>\n",
              "    </button>\n",
              "\n",
              "  <style>\n",
              "    .colab-df-container {\n",
              "      display:flex;\n",
              "      gap: 12px;\n",
              "    }\n",
              "\n",
              "    .colab-df-convert {\n",
              "      background-color: #E8F0FE;\n",
              "      border: none;\n",
              "      border-radius: 50%;\n",
              "      cursor: pointer;\n",
              "      display: none;\n",
              "      fill: #1967D2;\n",
              "      height: 32px;\n",
              "      padding: 0 0 0 0;\n",
              "      width: 32px;\n",
              "    }\n",
              "\n",
              "    .colab-df-convert:hover {\n",
              "      background-color: #E2EBFA;\n",
              "      box-shadow: 0px 1px 2px rgba(60, 64, 67, 0.3), 0px 1px 3px 1px rgba(60, 64, 67, 0.15);\n",
              "      fill: #174EA6;\n",
              "    }\n",
              "\n",
              "    .colab-df-buttons div {\n",
              "      margin-bottom: 4px;\n",
              "    }\n",
              "\n",
              "    [theme=dark] .colab-df-convert {\n",
              "      background-color: #3B4455;\n",
              "      fill: #D2E3FC;\n",
              "    }\n",
              "\n",
              "    [theme=dark] .colab-df-convert:hover {\n",
              "      background-color: #434B5C;\n",
              "      box-shadow: 0px 1px 3px 1px rgba(0, 0, 0, 0.15);\n",
              "      filter: drop-shadow(0px 1px 2px rgba(0, 0, 0, 0.3));\n",
              "      fill: #FFFFFF;\n",
              "    }\n",
              "  </style>\n",
              "\n",
              "    <script>\n",
              "      const buttonEl =\n",
              "        document.querySelector('#df-bcee8b51-debd-41f5-84cb-b12339076504 button.colab-df-convert');\n",
              "      buttonEl.style.display =\n",
              "        google.colab.kernel.accessAllowed ? 'block' : 'none';\n",
              "\n",
              "      async function convertToInteractive(key) {\n",
              "        const element = document.querySelector('#df-bcee8b51-debd-41f5-84cb-b12339076504');\n",
              "        const dataTable =\n",
              "          await google.colab.kernel.invokeFunction('convertToInteractive',\n",
              "                                                    [key], {});\n",
              "        if (!dataTable) return;\n",
              "\n",
              "        const docLinkHtml = 'Like what you see? Visit the ' +\n",
              "          '<a target=\"_blank\" href=https://colab.research.google.com/notebooks/data_table.ipynb>data table notebook</a>'\n",
              "          + ' to learn more about interactive tables.';\n",
              "        element.innerHTML = '';\n",
              "        dataTable['output_type'] = 'display_data';\n",
              "        await google.colab.output.renderOutput(dataTable, element);\n",
              "        const docLink = document.createElement('div');\n",
              "        docLink.innerHTML = docLinkHtml;\n",
              "        element.appendChild(docLink);\n",
              "      }\n",
              "    </script>\n",
              "  </div>\n",
              "\n",
              "\n",
              "<div id=\"df-c34868b1-9bb4-44d3-8a01-9075d5a8cc24\">\n",
              "  <button class=\"colab-df-quickchart\" onclick=\"quickchart('df-c34868b1-9bb4-44d3-8a01-9075d5a8cc24')\"\n",
              "            title=\"Suggest charts\"\n",
              "            style=\"display:none;\">\n",
              "\n",
              "<svg xmlns=\"http://www.w3.org/2000/svg\" height=\"24px\"viewBox=\"0 0 24 24\"\n",
              "     width=\"24px\">\n",
              "    <g>\n",
              "        <path d=\"M19 3H5c-1.1 0-2 .9-2 2v14c0 1.1.9 2 2 2h14c1.1 0 2-.9 2-2V5c0-1.1-.9-2-2-2zM9 17H7v-7h2v7zm4 0h-2V7h2v10zm4 0h-2v-4h2v4z\"/>\n",
              "    </g>\n",
              "</svg>\n",
              "  </button>\n",
              "\n",
              "<style>\n",
              "  .colab-df-quickchart {\n",
              "      --bg-color: #E8F0FE;\n",
              "      --fill-color: #1967D2;\n",
              "      --hover-bg-color: #E2EBFA;\n",
              "      --hover-fill-color: #174EA6;\n",
              "      --disabled-fill-color: #AAA;\n",
              "      --disabled-bg-color: #DDD;\n",
              "  }\n",
              "\n",
              "  [theme=dark] .colab-df-quickchart {\n",
              "      --bg-color: #3B4455;\n",
              "      --fill-color: #D2E3FC;\n",
              "      --hover-bg-color: #434B5C;\n",
              "      --hover-fill-color: #FFFFFF;\n",
              "      --disabled-bg-color: #3B4455;\n",
              "      --disabled-fill-color: #666;\n",
              "  }\n",
              "\n",
              "  .colab-df-quickchart {\n",
              "    background-color: var(--bg-color);\n",
              "    border: none;\n",
              "    border-radius: 50%;\n",
              "    cursor: pointer;\n",
              "    display: none;\n",
              "    fill: var(--fill-color);\n",
              "    height: 32px;\n",
              "    padding: 0;\n",
              "    width: 32px;\n",
              "  }\n",
              "\n",
              "  .colab-df-quickchart:hover {\n",
              "    background-color: var(--hover-bg-color);\n",
              "    box-shadow: 0 1px 2px rgba(60, 64, 67, 0.3), 0 1px 3px 1px rgba(60, 64, 67, 0.15);\n",
              "    fill: var(--button-hover-fill-color);\n",
              "  }\n",
              "\n",
              "  .colab-df-quickchart-complete:disabled,\n",
              "  .colab-df-quickchart-complete:disabled:hover {\n",
              "    background-color: var(--disabled-bg-color);\n",
              "    fill: var(--disabled-fill-color);\n",
              "    box-shadow: none;\n",
              "  }\n",
              "\n",
              "  .colab-df-spinner {\n",
              "    border: 2px solid var(--fill-color);\n",
              "    border-color: transparent;\n",
              "    border-bottom-color: var(--fill-color);\n",
              "    animation:\n",
              "      spin 1s steps(1) infinite;\n",
              "  }\n",
              "\n",
              "  @keyframes spin {\n",
              "    0% {\n",
              "      border-color: transparent;\n",
              "      border-bottom-color: var(--fill-color);\n",
              "      border-left-color: var(--fill-color);\n",
              "    }\n",
              "    20% {\n",
              "      border-color: transparent;\n",
              "      border-left-color: var(--fill-color);\n",
              "      border-top-color: var(--fill-color);\n",
              "    }\n",
              "    30% {\n",
              "      border-color: transparent;\n",
              "      border-left-color: var(--fill-color);\n",
              "      border-top-color: var(--fill-color);\n",
              "      border-right-color: var(--fill-color);\n",
              "    }\n",
              "    40% {\n",
              "      border-color: transparent;\n",
              "      border-right-color: var(--fill-color);\n",
              "      border-top-color: var(--fill-color);\n",
              "    }\n",
              "    60% {\n",
              "      border-color: transparent;\n",
              "      border-right-color: var(--fill-color);\n",
              "    }\n",
              "    80% {\n",
              "      border-color: transparent;\n",
              "      border-right-color: var(--fill-color);\n",
              "      border-bottom-color: var(--fill-color);\n",
              "    }\n",
              "    90% {\n",
              "      border-color: transparent;\n",
              "      border-bottom-color: var(--fill-color);\n",
              "    }\n",
              "  }\n",
              "</style>\n",
              "\n",
              "  <script>\n",
              "    async function quickchart(key) {\n",
              "      const quickchartButtonEl =\n",
              "        document.querySelector('#' + key + ' button');\n",
              "      quickchartButtonEl.disabled = true;  // To prevent multiple clicks.\n",
              "      quickchartButtonEl.classList.add('colab-df-spinner');\n",
              "      try {\n",
              "        const charts = await google.colab.kernel.invokeFunction(\n",
              "            'suggestCharts', [key], {});\n",
              "      } catch (error) {\n",
              "        console.error('Error during call to suggestCharts:', error);\n",
              "      }\n",
              "      quickchartButtonEl.classList.remove('colab-df-spinner');\n",
              "      quickchartButtonEl.classList.add('colab-df-quickchart-complete');\n",
              "    }\n",
              "    (() => {\n",
              "      let quickchartButtonEl =\n",
              "        document.querySelector('#df-c34868b1-9bb4-44d3-8a01-9075d5a8cc24 button');\n",
              "      quickchartButtonEl.style.display =\n",
              "        google.colab.kernel.accessAllowed ? 'block' : 'none';\n",
              "    })();\n",
              "  </script>\n",
              "</div>\n",
              "\n",
              "    </div>\n",
              "  </div>\n"
            ],
            "application/vnd.google.colaboratory.intrinsic+json": {
              "type": "dataframe",
              "variable_name": "data"
            }
          },
          "metadata": {},
          "execution_count": 18
        }
      ]
    },
    {
      "cell_type": "code",
      "source": [
        "pd.set_option('display.max_columns',None)"
      ],
      "metadata": {
        "id": "mASygDfUE09h"
      },
      "execution_count": null,
      "outputs": []
    },
    {
      "cell_type": "code",
      "source": [
        "data.head()"
      ],
      "metadata": {
        "colab": {
          "base_uri": "https://localhost:8080/",
          "height": 325
        },
        "id": "6ENCgEPQG2Bw",
        "outputId": "b54e9709-86d8-4142-8a51-bfe9ffd094d9"
      },
      "execution_count": null,
      "outputs": [
        {
          "output_type": "execute_result",
          "data": {
            "text/plain": [
              "   Age Attrition     BusinessTravel  DailyRate              Department  \\\n",
              "0   41       Yes      Travel_Rarely       1102                   Sales   \n",
              "1   49        No  Travel_Frequently        279  Research & Development   \n",
              "2   37       Yes      Travel_Rarely       1373  Research & Development   \n",
              "3   33        No  Travel_Frequently       1392  Research & Development   \n",
              "4   27        No      Travel_Rarely        591  Research & Development   \n",
              "\n",
              "   DistanceFromHome  Education EducationField  EmployeeCount  EmployeeNumber  \\\n",
              "0                 1          2  Life Sciences              1               1   \n",
              "1                 8          1  Life Sciences              1               2   \n",
              "2                 2          2          Other              1               4   \n",
              "3                 3          4  Life Sciences              1               5   \n",
              "4                 2          1        Medical              1               7   \n",
              "\n",
              "   ...  RelationshipSatisfaction StandardHours  StockOptionLevel  \\\n",
              "0  ...                         1            80                 0   \n",
              "1  ...                         4            80                 1   \n",
              "2  ...                         2            80                 0   \n",
              "3  ...                         3            80                 0   \n",
              "4  ...                         4            80                 1   \n",
              "\n",
              "   TotalWorkingYears  TrainingTimesLastYear WorkLifeBalance  YearsAtCompany  \\\n",
              "0                  8                      0               1               6   \n",
              "1                 10                      3               3              10   \n",
              "2                  7                      3               3               0   \n",
              "3                  8                      3               3               8   \n",
              "4                  6                      3               3               2   \n",
              "\n",
              "  YearsInCurrentRole  YearsSinceLastPromotion  YearsWithCurrManager  \n",
              "0                  4                        0                     5  \n",
              "1                  7                        1                     7  \n",
              "2                  0                        0                     0  \n",
              "3                  7                        3                     0  \n",
              "4                  2                        2                     2  \n",
              "\n",
              "[5 rows x 35 columns]"
            ],
            "text/html": [
              "\n",
              "  <div id=\"df-63fcc1d6-ae1a-4a7c-91a3-c662c8a5d79d\" class=\"colab-df-container\">\n",
              "    <div>\n",
              "<style scoped>\n",
              "    .dataframe tbody tr th:only-of-type {\n",
              "        vertical-align: middle;\n",
              "    }\n",
              "\n",
              "    .dataframe tbody tr th {\n",
              "        vertical-align: top;\n",
              "    }\n",
              "\n",
              "    .dataframe thead th {\n",
              "        text-align: right;\n",
              "    }\n",
              "</style>\n",
              "<table border=\"1\" class=\"dataframe\">\n",
              "  <thead>\n",
              "    <tr style=\"text-align: right;\">\n",
              "      <th></th>\n",
              "      <th>Age</th>\n",
              "      <th>Attrition</th>\n",
              "      <th>BusinessTravel</th>\n",
              "      <th>DailyRate</th>\n",
              "      <th>Department</th>\n",
              "      <th>DistanceFromHome</th>\n",
              "      <th>Education</th>\n",
              "      <th>EducationField</th>\n",
              "      <th>EmployeeCount</th>\n",
              "      <th>EmployeeNumber</th>\n",
              "      <th>...</th>\n",
              "      <th>RelationshipSatisfaction</th>\n",
              "      <th>StandardHours</th>\n",
              "      <th>StockOptionLevel</th>\n",
              "      <th>TotalWorkingYears</th>\n",
              "      <th>TrainingTimesLastYear</th>\n",
              "      <th>WorkLifeBalance</th>\n",
              "      <th>YearsAtCompany</th>\n",
              "      <th>YearsInCurrentRole</th>\n",
              "      <th>YearsSinceLastPromotion</th>\n",
              "      <th>YearsWithCurrManager</th>\n",
              "    </tr>\n",
              "  </thead>\n",
              "  <tbody>\n",
              "    <tr>\n",
              "      <th>0</th>\n",
              "      <td>41</td>\n",
              "      <td>Yes</td>\n",
              "      <td>Travel_Rarely</td>\n",
              "      <td>1102</td>\n",
              "      <td>Sales</td>\n",
              "      <td>1</td>\n",
              "      <td>2</td>\n",
              "      <td>Life Sciences</td>\n",
              "      <td>1</td>\n",
              "      <td>1</td>\n",
              "      <td>...</td>\n",
              "      <td>1</td>\n",
              "      <td>80</td>\n",
              "      <td>0</td>\n",
              "      <td>8</td>\n",
              "      <td>0</td>\n",
              "      <td>1</td>\n",
              "      <td>6</td>\n",
              "      <td>4</td>\n",
              "      <td>0</td>\n",
              "      <td>5</td>\n",
              "    </tr>\n",
              "    <tr>\n",
              "      <th>1</th>\n",
              "      <td>49</td>\n",
              "      <td>No</td>\n",
              "      <td>Travel_Frequently</td>\n",
              "      <td>279</td>\n",
              "      <td>Research &amp; Development</td>\n",
              "      <td>8</td>\n",
              "      <td>1</td>\n",
              "      <td>Life Sciences</td>\n",
              "      <td>1</td>\n",
              "      <td>2</td>\n",
              "      <td>...</td>\n",
              "      <td>4</td>\n",
              "      <td>80</td>\n",
              "      <td>1</td>\n",
              "      <td>10</td>\n",
              "      <td>3</td>\n",
              "      <td>3</td>\n",
              "      <td>10</td>\n",
              "      <td>7</td>\n",
              "      <td>1</td>\n",
              "      <td>7</td>\n",
              "    </tr>\n",
              "    <tr>\n",
              "      <th>2</th>\n",
              "      <td>37</td>\n",
              "      <td>Yes</td>\n",
              "      <td>Travel_Rarely</td>\n",
              "      <td>1373</td>\n",
              "      <td>Research &amp; Development</td>\n",
              "      <td>2</td>\n",
              "      <td>2</td>\n",
              "      <td>Other</td>\n",
              "      <td>1</td>\n",
              "      <td>4</td>\n",
              "      <td>...</td>\n",
              "      <td>2</td>\n",
              "      <td>80</td>\n",
              "      <td>0</td>\n",
              "      <td>7</td>\n",
              "      <td>3</td>\n",
              "      <td>3</td>\n",
              "      <td>0</td>\n",
              "      <td>0</td>\n",
              "      <td>0</td>\n",
              "      <td>0</td>\n",
              "    </tr>\n",
              "    <tr>\n",
              "      <th>3</th>\n",
              "      <td>33</td>\n",
              "      <td>No</td>\n",
              "      <td>Travel_Frequently</td>\n",
              "      <td>1392</td>\n",
              "      <td>Research &amp; Development</td>\n",
              "      <td>3</td>\n",
              "      <td>4</td>\n",
              "      <td>Life Sciences</td>\n",
              "      <td>1</td>\n",
              "      <td>5</td>\n",
              "      <td>...</td>\n",
              "      <td>3</td>\n",
              "      <td>80</td>\n",
              "      <td>0</td>\n",
              "      <td>8</td>\n",
              "      <td>3</td>\n",
              "      <td>3</td>\n",
              "      <td>8</td>\n",
              "      <td>7</td>\n",
              "      <td>3</td>\n",
              "      <td>0</td>\n",
              "    </tr>\n",
              "    <tr>\n",
              "      <th>4</th>\n",
              "      <td>27</td>\n",
              "      <td>No</td>\n",
              "      <td>Travel_Rarely</td>\n",
              "      <td>591</td>\n",
              "      <td>Research &amp; Development</td>\n",
              "      <td>2</td>\n",
              "      <td>1</td>\n",
              "      <td>Medical</td>\n",
              "      <td>1</td>\n",
              "      <td>7</td>\n",
              "      <td>...</td>\n",
              "      <td>4</td>\n",
              "      <td>80</td>\n",
              "      <td>1</td>\n",
              "      <td>6</td>\n",
              "      <td>3</td>\n",
              "      <td>3</td>\n",
              "      <td>2</td>\n",
              "      <td>2</td>\n",
              "      <td>2</td>\n",
              "      <td>2</td>\n",
              "    </tr>\n",
              "  </tbody>\n",
              "</table>\n",
              "<p>5 rows × 35 columns</p>\n",
              "</div>\n",
              "    <div class=\"colab-df-buttons\">\n",
              "\n",
              "  <div class=\"colab-df-container\">\n",
              "    <button class=\"colab-df-convert\" onclick=\"convertToInteractive('df-63fcc1d6-ae1a-4a7c-91a3-c662c8a5d79d')\"\n",
              "            title=\"Convert this dataframe to an interactive table.\"\n",
              "            style=\"display:none;\">\n",
              "\n",
              "  <svg xmlns=\"http://www.w3.org/2000/svg\" height=\"24px\" viewBox=\"0 -960 960 960\">\n",
              "    <path d=\"M120-120v-720h720v720H120Zm60-500h600v-160H180v160Zm220 220h160v-160H400v160Zm0 220h160v-160H400v160ZM180-400h160v-160H180v160Zm440 0h160v-160H620v160ZM180-180h160v-160H180v160Zm440 0h160v-160H620v160Z\"/>\n",
              "  </svg>\n",
              "    </button>\n",
              "\n",
              "  <style>\n",
              "    .colab-df-container {\n",
              "      display:flex;\n",
              "      gap: 12px;\n",
              "    }\n",
              "\n",
              "    .colab-df-convert {\n",
              "      background-color: #E8F0FE;\n",
              "      border: none;\n",
              "      border-radius: 50%;\n",
              "      cursor: pointer;\n",
              "      display: none;\n",
              "      fill: #1967D2;\n",
              "      height: 32px;\n",
              "      padding: 0 0 0 0;\n",
              "      width: 32px;\n",
              "    }\n",
              "\n",
              "    .colab-df-convert:hover {\n",
              "      background-color: #E2EBFA;\n",
              "      box-shadow: 0px 1px 2px rgba(60, 64, 67, 0.3), 0px 1px 3px 1px rgba(60, 64, 67, 0.15);\n",
              "      fill: #174EA6;\n",
              "    }\n",
              "\n",
              "    .colab-df-buttons div {\n",
              "      margin-bottom: 4px;\n",
              "    }\n",
              "\n",
              "    [theme=dark] .colab-df-convert {\n",
              "      background-color: #3B4455;\n",
              "      fill: #D2E3FC;\n",
              "    }\n",
              "\n",
              "    [theme=dark] .colab-df-convert:hover {\n",
              "      background-color: #434B5C;\n",
              "      box-shadow: 0px 1px 3px 1px rgba(0, 0, 0, 0.15);\n",
              "      filter: drop-shadow(0px 1px 2px rgba(0, 0, 0, 0.3));\n",
              "      fill: #FFFFFF;\n",
              "    }\n",
              "  </style>\n",
              "\n",
              "    <script>\n",
              "      const buttonEl =\n",
              "        document.querySelector('#df-63fcc1d6-ae1a-4a7c-91a3-c662c8a5d79d button.colab-df-convert');\n",
              "      buttonEl.style.display =\n",
              "        google.colab.kernel.accessAllowed ? 'block' : 'none';\n",
              "\n",
              "      async function convertToInteractive(key) {\n",
              "        const element = document.querySelector('#df-63fcc1d6-ae1a-4a7c-91a3-c662c8a5d79d');\n",
              "        const dataTable =\n",
              "          await google.colab.kernel.invokeFunction('convertToInteractive',\n",
              "                                                    [key], {});\n",
              "        if (!dataTable) return;\n",
              "\n",
              "        const docLinkHtml = 'Like what you see? Visit the ' +\n",
              "          '<a target=\"_blank\" href=https://colab.research.google.com/notebooks/data_table.ipynb>data table notebook</a>'\n",
              "          + ' to learn more about interactive tables.';\n",
              "        element.innerHTML = '';\n",
              "        dataTable['output_type'] = 'display_data';\n",
              "        await google.colab.output.renderOutput(dataTable, element);\n",
              "        const docLink = document.createElement('div');\n",
              "        docLink.innerHTML = docLinkHtml;\n",
              "        element.appendChild(docLink);\n",
              "      }\n",
              "    </script>\n",
              "  </div>\n",
              "\n",
              "\n",
              "<div id=\"df-e036dd08-eedc-41d6-94d8-032b1b07e98e\">\n",
              "  <button class=\"colab-df-quickchart\" onclick=\"quickchart('df-e036dd08-eedc-41d6-94d8-032b1b07e98e')\"\n",
              "            title=\"Suggest charts\"\n",
              "            style=\"display:none;\">\n",
              "\n",
              "<svg xmlns=\"http://www.w3.org/2000/svg\" height=\"24px\"viewBox=\"0 0 24 24\"\n",
              "     width=\"24px\">\n",
              "    <g>\n",
              "        <path d=\"M19 3H5c-1.1 0-2 .9-2 2v14c0 1.1.9 2 2 2h14c1.1 0 2-.9 2-2V5c0-1.1-.9-2-2-2zM9 17H7v-7h2v7zm4 0h-2V7h2v10zm4 0h-2v-4h2v4z\"/>\n",
              "    </g>\n",
              "</svg>\n",
              "  </button>\n",
              "\n",
              "<style>\n",
              "  .colab-df-quickchart {\n",
              "      --bg-color: #E8F0FE;\n",
              "      --fill-color: #1967D2;\n",
              "      --hover-bg-color: #E2EBFA;\n",
              "      --hover-fill-color: #174EA6;\n",
              "      --disabled-fill-color: #AAA;\n",
              "      --disabled-bg-color: #DDD;\n",
              "  }\n",
              "\n",
              "  [theme=dark] .colab-df-quickchart {\n",
              "      --bg-color: #3B4455;\n",
              "      --fill-color: #D2E3FC;\n",
              "      --hover-bg-color: #434B5C;\n",
              "      --hover-fill-color: #FFFFFF;\n",
              "      --disabled-bg-color: #3B4455;\n",
              "      --disabled-fill-color: #666;\n",
              "  }\n",
              "\n",
              "  .colab-df-quickchart {\n",
              "    background-color: var(--bg-color);\n",
              "    border: none;\n",
              "    border-radius: 50%;\n",
              "    cursor: pointer;\n",
              "    display: none;\n",
              "    fill: var(--fill-color);\n",
              "    height: 32px;\n",
              "    padding: 0;\n",
              "    width: 32px;\n",
              "  }\n",
              "\n",
              "  .colab-df-quickchart:hover {\n",
              "    background-color: var(--hover-bg-color);\n",
              "    box-shadow: 0 1px 2px rgba(60, 64, 67, 0.3), 0 1px 3px 1px rgba(60, 64, 67, 0.15);\n",
              "    fill: var(--button-hover-fill-color);\n",
              "  }\n",
              "\n",
              "  .colab-df-quickchart-complete:disabled,\n",
              "  .colab-df-quickchart-complete:disabled:hover {\n",
              "    background-color: var(--disabled-bg-color);\n",
              "    fill: var(--disabled-fill-color);\n",
              "    box-shadow: none;\n",
              "  }\n",
              "\n",
              "  .colab-df-spinner {\n",
              "    border: 2px solid var(--fill-color);\n",
              "    border-color: transparent;\n",
              "    border-bottom-color: var(--fill-color);\n",
              "    animation:\n",
              "      spin 1s steps(1) infinite;\n",
              "  }\n",
              "\n",
              "  @keyframes spin {\n",
              "    0% {\n",
              "      border-color: transparent;\n",
              "      border-bottom-color: var(--fill-color);\n",
              "      border-left-color: var(--fill-color);\n",
              "    }\n",
              "    20% {\n",
              "      border-color: transparent;\n",
              "      border-left-color: var(--fill-color);\n",
              "      border-top-color: var(--fill-color);\n",
              "    }\n",
              "    30% {\n",
              "      border-color: transparent;\n",
              "      border-left-color: var(--fill-color);\n",
              "      border-top-color: var(--fill-color);\n",
              "      border-right-color: var(--fill-color);\n",
              "    }\n",
              "    40% {\n",
              "      border-color: transparent;\n",
              "      border-right-color: var(--fill-color);\n",
              "      border-top-color: var(--fill-color);\n",
              "    }\n",
              "    60% {\n",
              "      border-color: transparent;\n",
              "      border-right-color: var(--fill-color);\n",
              "    }\n",
              "    80% {\n",
              "      border-color: transparent;\n",
              "      border-right-color: var(--fill-color);\n",
              "      border-bottom-color: var(--fill-color);\n",
              "    }\n",
              "    90% {\n",
              "      border-color: transparent;\n",
              "      border-bottom-color: var(--fill-color);\n",
              "    }\n",
              "  }\n",
              "</style>\n",
              "\n",
              "  <script>\n",
              "    async function quickchart(key) {\n",
              "      const quickchartButtonEl =\n",
              "        document.querySelector('#' + key + ' button');\n",
              "      quickchartButtonEl.disabled = true;  // To prevent multiple clicks.\n",
              "      quickchartButtonEl.classList.add('colab-df-spinner');\n",
              "      try {\n",
              "        const charts = await google.colab.kernel.invokeFunction(\n",
              "            'suggestCharts', [key], {});\n",
              "      } catch (error) {\n",
              "        console.error('Error during call to suggestCharts:', error);\n",
              "      }\n",
              "      quickchartButtonEl.classList.remove('colab-df-spinner');\n",
              "      quickchartButtonEl.classList.add('colab-df-quickchart-complete');\n",
              "    }\n",
              "    (() => {\n",
              "      let quickchartButtonEl =\n",
              "        document.querySelector('#df-e036dd08-eedc-41d6-94d8-032b1b07e98e button');\n",
              "      quickchartButtonEl.style.display =\n",
              "        google.colab.kernel.accessAllowed ? 'block' : 'none';\n",
              "    })();\n",
              "  </script>\n",
              "</div>\n",
              "\n",
              "    </div>\n",
              "  </div>\n"
            ],
            "application/vnd.google.colaboratory.intrinsic+json": {
              "type": "dataframe",
              "variable_name": "data"
            }
          },
          "metadata": {},
          "execution_count": 19
        }
      ]
    },
    {
      "cell_type": "code",
      "source": [
        "from google.colab import drive\n",
        "drive.mount('/content/drive')"
      ],
      "metadata": {
        "id": "HyXmF0MsWbaK"
      },
      "execution_count": null,
      "outputs": []
    },
    {
      "cell_type": "code",
      "source": [
        "data.info()"
      ],
      "metadata": {
        "colab": {
          "base_uri": "https://localhost:8080/"
        },
        "id": "KwxVcZ1OG8Nz",
        "outputId": "11236ea9-9d5d-4599-ee4a-2a7da8cae068"
      },
      "execution_count": null,
      "outputs": [
        {
          "output_type": "stream",
          "name": "stdout",
          "text": [
            "<class 'pandas.core.frame.DataFrame'>\n",
            "RangeIndex: 1470 entries, 0 to 1469\n",
            "Data columns (total 35 columns):\n",
            " #   Column                    Non-Null Count  Dtype \n",
            "---  ------                    --------------  ----- \n",
            " 0   Age                       1470 non-null   int64 \n",
            " 1   Attrition                 1470 non-null   object\n",
            " 2   BusinessTravel            1470 non-null   object\n",
            " 3   DailyRate                 1470 non-null   int64 \n",
            " 4   Department                1470 non-null   object\n",
            " 5   DistanceFromHome          1470 non-null   int64 \n",
            " 6   Education                 1470 non-null   int64 \n",
            " 7   EducationField            1470 non-null   object\n",
            " 8   EmployeeCount             1470 non-null   int64 \n",
            " 9   EmployeeNumber            1470 non-null   int64 \n",
            " 10  EnvironmentSatisfaction   1470 non-null   int64 \n",
            " 11  Gender                    1470 non-null   object\n",
            " 12  HourlyRate                1470 non-null   int64 \n",
            " 13  JobInvolvement            1470 non-null   int64 \n",
            " 14  JobLevel                  1470 non-null   int64 \n",
            " 15  JobRole                   1470 non-null   object\n",
            " 16  JobSatisfaction           1470 non-null   int64 \n",
            " 17  MaritalStatus             1470 non-null   object\n",
            " 18  MonthlyIncome             1470 non-null   int64 \n",
            " 19  MonthlyRate               1470 non-null   int64 \n",
            " 20  NumCompaniesWorked        1470 non-null   int64 \n",
            " 21  Over18                    1470 non-null   object\n",
            " 22  OverTime                  1470 non-null   object\n",
            " 23  PercentSalaryHike         1470 non-null   int64 \n",
            " 24  PerformanceRating         1470 non-null   int64 \n",
            " 25  RelationshipSatisfaction  1470 non-null   int64 \n",
            " 26  StandardHours             1470 non-null   int64 \n",
            " 27  StockOptionLevel          1470 non-null   int64 \n",
            " 28  TotalWorkingYears         1470 non-null   int64 \n",
            " 29  TrainingTimesLastYear     1470 non-null   int64 \n",
            " 30  WorkLifeBalance           1470 non-null   int64 \n",
            " 31  YearsAtCompany            1470 non-null   int64 \n",
            " 32  YearsInCurrentRole        1470 non-null   int64 \n",
            " 33  YearsSinceLastPromotion   1470 non-null   int64 \n",
            " 34  YearsWithCurrManager      1470 non-null   int64 \n",
            "dtypes: int64(26), object(9)\n",
            "memory usage: 402.1+ KB\n"
          ]
        }
      ]
    },
    {
      "cell_type": "code",
      "source": [
        "data.describe() # Descriptive Stats"
      ],
      "metadata": {
        "id": "tvwZjMOEImek",
        "colab": {
          "base_uri": "https://localhost:8080/",
          "height": 320
        },
        "outputId": "02b936d8-c287-4537-a14e-a9479bccad3a"
      },
      "execution_count": null,
      "outputs": [
        {
          "output_type": "execute_result",
          "data": {
            "text/plain": [
              "               Age    DailyRate  DistanceFromHome    Education  EmployeeCount  \\\n",
              "count  1470.000000  1470.000000       1470.000000  1470.000000         1470.0   \n",
              "mean     36.923810   802.485714          9.192517     2.912925            1.0   \n",
              "std       9.135373   403.509100          8.106864     1.024165            0.0   \n",
              "min      18.000000   102.000000          1.000000     1.000000            1.0   \n",
              "25%      30.000000   465.000000          2.000000     2.000000            1.0   \n",
              "50%      36.000000   802.000000          7.000000     3.000000            1.0   \n",
              "75%      43.000000  1157.000000         14.000000     4.000000            1.0   \n",
              "max      60.000000  1499.000000         29.000000     5.000000            1.0   \n",
              "\n",
              "       EmployeeNumber  EnvironmentSatisfaction   HourlyRate  JobInvolvement  \\\n",
              "count     1470.000000              1470.000000  1470.000000     1470.000000   \n",
              "mean      1024.865306                 2.721769    65.891156        2.729932   \n",
              "std        602.024335                 1.093082    20.329428        0.711561   \n",
              "min          1.000000                 1.000000    30.000000        1.000000   \n",
              "25%        491.250000                 2.000000    48.000000        2.000000   \n",
              "50%       1020.500000                 3.000000    66.000000        3.000000   \n",
              "75%       1555.750000                 4.000000    83.750000        3.000000   \n",
              "max       2068.000000                 4.000000   100.000000        4.000000   \n",
              "\n",
              "          JobLevel  JobSatisfaction  MonthlyIncome   MonthlyRate  \\\n",
              "count  1470.000000      1470.000000    1470.000000   1470.000000   \n",
              "mean      2.063946         2.728571    6502.931293  14313.103401   \n",
              "std       1.106940         1.102846    4707.956783   7117.786044   \n",
              "min       1.000000         1.000000    1009.000000   2094.000000   \n",
              "25%       1.000000         2.000000    2911.000000   8047.000000   \n",
              "50%       2.000000         3.000000    4919.000000  14235.500000   \n",
              "75%       3.000000         4.000000    8379.000000  20461.500000   \n",
              "max       5.000000         4.000000   19999.000000  26999.000000   \n",
              "\n",
              "       NumCompaniesWorked  PercentSalaryHike  PerformanceRating  \\\n",
              "count         1470.000000        1470.000000        1470.000000   \n",
              "mean             2.693197          15.209524           3.153741   \n",
              "std              2.498009           3.659938           0.360824   \n",
              "min              0.000000          11.000000           3.000000   \n",
              "25%              1.000000          12.000000           3.000000   \n",
              "50%              2.000000          14.000000           3.000000   \n",
              "75%              4.000000          18.000000           3.000000   \n",
              "max              9.000000          25.000000           4.000000   \n",
              "\n",
              "       RelationshipSatisfaction  StandardHours  StockOptionLevel  \\\n",
              "count               1470.000000         1470.0       1470.000000   \n",
              "mean                   2.712245           80.0          0.793878   \n",
              "std                    1.081209            0.0          0.852077   \n",
              "min                    1.000000           80.0          0.000000   \n",
              "25%                    2.000000           80.0          0.000000   \n",
              "50%                    3.000000           80.0          1.000000   \n",
              "75%                    4.000000           80.0          1.000000   \n",
              "max                    4.000000           80.0          3.000000   \n",
              "\n",
              "       TotalWorkingYears  TrainingTimesLastYear  WorkLifeBalance  \\\n",
              "count        1470.000000            1470.000000      1470.000000   \n",
              "mean           11.279592               2.799320         2.761224   \n",
              "std             7.780782               1.289271         0.706476   \n",
              "min             0.000000               0.000000         1.000000   \n",
              "25%             6.000000               2.000000         2.000000   \n",
              "50%            10.000000               3.000000         3.000000   \n",
              "75%            15.000000               3.000000         3.000000   \n",
              "max            40.000000               6.000000         4.000000   \n",
              "\n",
              "       YearsAtCompany  YearsInCurrentRole  YearsSinceLastPromotion  \\\n",
              "count     1470.000000         1470.000000              1470.000000   \n",
              "mean         7.008163            4.229252                 2.187755   \n",
              "std          6.126525            3.623137                 3.222430   \n",
              "min          0.000000            0.000000                 0.000000   \n",
              "25%          3.000000            2.000000                 0.000000   \n",
              "50%          5.000000            3.000000                 1.000000   \n",
              "75%          9.000000            7.000000                 3.000000   \n",
              "max         40.000000           18.000000                15.000000   \n",
              "\n",
              "       YearsWithCurrManager  \n",
              "count           1470.000000  \n",
              "mean               4.123129  \n",
              "std                3.568136  \n",
              "min                0.000000  \n",
              "25%                2.000000  \n",
              "50%                3.000000  \n",
              "75%                7.000000  \n",
              "max               17.000000  "
            ],
            "text/html": [
              "\n",
              "  <div id=\"df-0e51e06f-05ed-4c51-a7e3-407cd080ab79\" class=\"colab-df-container\">\n",
              "    <div>\n",
              "<style scoped>\n",
              "    .dataframe tbody tr th:only-of-type {\n",
              "        vertical-align: middle;\n",
              "    }\n",
              "\n",
              "    .dataframe tbody tr th {\n",
              "        vertical-align: top;\n",
              "    }\n",
              "\n",
              "    .dataframe thead th {\n",
              "        text-align: right;\n",
              "    }\n",
              "</style>\n",
              "<table border=\"1\" class=\"dataframe\">\n",
              "  <thead>\n",
              "    <tr style=\"text-align: right;\">\n",
              "      <th></th>\n",
              "      <th>Age</th>\n",
              "      <th>DailyRate</th>\n",
              "      <th>DistanceFromHome</th>\n",
              "      <th>Education</th>\n",
              "      <th>EmployeeCount</th>\n",
              "      <th>EmployeeNumber</th>\n",
              "      <th>EnvironmentSatisfaction</th>\n",
              "      <th>HourlyRate</th>\n",
              "      <th>JobInvolvement</th>\n",
              "      <th>JobLevel</th>\n",
              "      <th>JobSatisfaction</th>\n",
              "      <th>MonthlyIncome</th>\n",
              "      <th>MonthlyRate</th>\n",
              "      <th>NumCompaniesWorked</th>\n",
              "      <th>PercentSalaryHike</th>\n",
              "      <th>PerformanceRating</th>\n",
              "      <th>RelationshipSatisfaction</th>\n",
              "      <th>StandardHours</th>\n",
              "      <th>StockOptionLevel</th>\n",
              "      <th>TotalWorkingYears</th>\n",
              "      <th>TrainingTimesLastYear</th>\n",
              "      <th>WorkLifeBalance</th>\n",
              "      <th>YearsAtCompany</th>\n",
              "      <th>YearsInCurrentRole</th>\n",
              "      <th>YearsSinceLastPromotion</th>\n",
              "      <th>YearsWithCurrManager</th>\n",
              "    </tr>\n",
              "  </thead>\n",
              "  <tbody>\n",
              "    <tr>\n",
              "      <th>count</th>\n",
              "      <td>1470.000000</td>\n",
              "      <td>1470.000000</td>\n",
              "      <td>1470.000000</td>\n",
              "      <td>1470.000000</td>\n",
              "      <td>1470.0</td>\n",
              "      <td>1470.000000</td>\n",
              "      <td>1470.000000</td>\n",
              "      <td>1470.000000</td>\n",
              "      <td>1470.000000</td>\n",
              "      <td>1470.000000</td>\n",
              "      <td>1470.000000</td>\n",
              "      <td>1470.000000</td>\n",
              "      <td>1470.000000</td>\n",
              "      <td>1470.000000</td>\n",
              "      <td>1470.000000</td>\n",
              "      <td>1470.000000</td>\n",
              "      <td>1470.000000</td>\n",
              "      <td>1470.0</td>\n",
              "      <td>1470.000000</td>\n",
              "      <td>1470.000000</td>\n",
              "      <td>1470.000000</td>\n",
              "      <td>1470.000000</td>\n",
              "      <td>1470.000000</td>\n",
              "      <td>1470.000000</td>\n",
              "      <td>1470.000000</td>\n",
              "      <td>1470.000000</td>\n",
              "    </tr>\n",
              "    <tr>\n",
              "      <th>mean</th>\n",
              "      <td>36.923810</td>\n",
              "      <td>802.485714</td>\n",
              "      <td>9.192517</td>\n",
              "      <td>2.912925</td>\n",
              "      <td>1.0</td>\n",
              "      <td>1024.865306</td>\n",
              "      <td>2.721769</td>\n",
              "      <td>65.891156</td>\n",
              "      <td>2.729932</td>\n",
              "      <td>2.063946</td>\n",
              "      <td>2.728571</td>\n",
              "      <td>6502.931293</td>\n",
              "      <td>14313.103401</td>\n",
              "      <td>2.693197</td>\n",
              "      <td>15.209524</td>\n",
              "      <td>3.153741</td>\n",
              "      <td>2.712245</td>\n",
              "      <td>80.0</td>\n",
              "      <td>0.793878</td>\n",
              "      <td>11.279592</td>\n",
              "      <td>2.799320</td>\n",
              "      <td>2.761224</td>\n",
              "      <td>7.008163</td>\n",
              "      <td>4.229252</td>\n",
              "      <td>2.187755</td>\n",
              "      <td>4.123129</td>\n",
              "    </tr>\n",
              "    <tr>\n",
              "      <th>std</th>\n",
              "      <td>9.135373</td>\n",
              "      <td>403.509100</td>\n",
              "      <td>8.106864</td>\n",
              "      <td>1.024165</td>\n",
              "      <td>0.0</td>\n",
              "      <td>602.024335</td>\n",
              "      <td>1.093082</td>\n",
              "      <td>20.329428</td>\n",
              "      <td>0.711561</td>\n",
              "      <td>1.106940</td>\n",
              "      <td>1.102846</td>\n",
              "      <td>4707.956783</td>\n",
              "      <td>7117.786044</td>\n",
              "      <td>2.498009</td>\n",
              "      <td>3.659938</td>\n",
              "      <td>0.360824</td>\n",
              "      <td>1.081209</td>\n",
              "      <td>0.0</td>\n",
              "      <td>0.852077</td>\n",
              "      <td>7.780782</td>\n",
              "      <td>1.289271</td>\n",
              "      <td>0.706476</td>\n",
              "      <td>6.126525</td>\n",
              "      <td>3.623137</td>\n",
              "      <td>3.222430</td>\n",
              "      <td>3.568136</td>\n",
              "    </tr>\n",
              "    <tr>\n",
              "      <th>min</th>\n",
              "      <td>18.000000</td>\n",
              "      <td>102.000000</td>\n",
              "      <td>1.000000</td>\n",
              "      <td>1.000000</td>\n",
              "      <td>1.0</td>\n",
              "      <td>1.000000</td>\n",
              "      <td>1.000000</td>\n",
              "      <td>30.000000</td>\n",
              "      <td>1.000000</td>\n",
              "      <td>1.000000</td>\n",
              "      <td>1.000000</td>\n",
              "      <td>1009.000000</td>\n",
              "      <td>2094.000000</td>\n",
              "      <td>0.000000</td>\n",
              "      <td>11.000000</td>\n",
              "      <td>3.000000</td>\n",
              "      <td>1.000000</td>\n",
              "      <td>80.0</td>\n",
              "      <td>0.000000</td>\n",
              "      <td>0.000000</td>\n",
              "      <td>0.000000</td>\n",
              "      <td>1.000000</td>\n",
              "      <td>0.000000</td>\n",
              "      <td>0.000000</td>\n",
              "      <td>0.000000</td>\n",
              "      <td>0.000000</td>\n",
              "    </tr>\n",
              "    <tr>\n",
              "      <th>25%</th>\n",
              "      <td>30.000000</td>\n",
              "      <td>465.000000</td>\n",
              "      <td>2.000000</td>\n",
              "      <td>2.000000</td>\n",
              "      <td>1.0</td>\n",
              "      <td>491.250000</td>\n",
              "      <td>2.000000</td>\n",
              "      <td>48.000000</td>\n",
              "      <td>2.000000</td>\n",
              "      <td>1.000000</td>\n",
              "      <td>2.000000</td>\n",
              "      <td>2911.000000</td>\n",
              "      <td>8047.000000</td>\n",
              "      <td>1.000000</td>\n",
              "      <td>12.000000</td>\n",
              "      <td>3.000000</td>\n",
              "      <td>2.000000</td>\n",
              "      <td>80.0</td>\n",
              "      <td>0.000000</td>\n",
              "      <td>6.000000</td>\n",
              "      <td>2.000000</td>\n",
              "      <td>2.000000</td>\n",
              "      <td>3.000000</td>\n",
              "      <td>2.000000</td>\n",
              "      <td>0.000000</td>\n",
              "      <td>2.000000</td>\n",
              "    </tr>\n",
              "    <tr>\n",
              "      <th>50%</th>\n",
              "      <td>36.000000</td>\n",
              "      <td>802.000000</td>\n",
              "      <td>7.000000</td>\n",
              "      <td>3.000000</td>\n",
              "      <td>1.0</td>\n",
              "      <td>1020.500000</td>\n",
              "      <td>3.000000</td>\n",
              "      <td>66.000000</td>\n",
              "      <td>3.000000</td>\n",
              "      <td>2.000000</td>\n",
              "      <td>3.000000</td>\n",
              "      <td>4919.000000</td>\n",
              "      <td>14235.500000</td>\n",
              "      <td>2.000000</td>\n",
              "      <td>14.000000</td>\n",
              "      <td>3.000000</td>\n",
              "      <td>3.000000</td>\n",
              "      <td>80.0</td>\n",
              "      <td>1.000000</td>\n",
              "      <td>10.000000</td>\n",
              "      <td>3.000000</td>\n",
              "      <td>3.000000</td>\n",
              "      <td>5.000000</td>\n",
              "      <td>3.000000</td>\n",
              "      <td>1.000000</td>\n",
              "      <td>3.000000</td>\n",
              "    </tr>\n",
              "    <tr>\n",
              "      <th>75%</th>\n",
              "      <td>43.000000</td>\n",
              "      <td>1157.000000</td>\n",
              "      <td>14.000000</td>\n",
              "      <td>4.000000</td>\n",
              "      <td>1.0</td>\n",
              "      <td>1555.750000</td>\n",
              "      <td>4.000000</td>\n",
              "      <td>83.750000</td>\n",
              "      <td>3.000000</td>\n",
              "      <td>3.000000</td>\n",
              "      <td>4.000000</td>\n",
              "      <td>8379.000000</td>\n",
              "      <td>20461.500000</td>\n",
              "      <td>4.000000</td>\n",
              "      <td>18.000000</td>\n",
              "      <td>3.000000</td>\n",
              "      <td>4.000000</td>\n",
              "      <td>80.0</td>\n",
              "      <td>1.000000</td>\n",
              "      <td>15.000000</td>\n",
              "      <td>3.000000</td>\n",
              "      <td>3.000000</td>\n",
              "      <td>9.000000</td>\n",
              "      <td>7.000000</td>\n",
              "      <td>3.000000</td>\n",
              "      <td>7.000000</td>\n",
              "    </tr>\n",
              "    <tr>\n",
              "      <th>max</th>\n",
              "      <td>60.000000</td>\n",
              "      <td>1499.000000</td>\n",
              "      <td>29.000000</td>\n",
              "      <td>5.000000</td>\n",
              "      <td>1.0</td>\n",
              "      <td>2068.000000</td>\n",
              "      <td>4.000000</td>\n",
              "      <td>100.000000</td>\n",
              "      <td>4.000000</td>\n",
              "      <td>5.000000</td>\n",
              "      <td>4.000000</td>\n",
              "      <td>19999.000000</td>\n",
              "      <td>26999.000000</td>\n",
              "      <td>9.000000</td>\n",
              "      <td>25.000000</td>\n",
              "      <td>4.000000</td>\n",
              "      <td>4.000000</td>\n",
              "      <td>80.0</td>\n",
              "      <td>3.000000</td>\n",
              "      <td>40.000000</td>\n",
              "      <td>6.000000</td>\n",
              "      <td>4.000000</td>\n",
              "      <td>40.000000</td>\n",
              "      <td>18.000000</td>\n",
              "      <td>15.000000</td>\n",
              "      <td>17.000000</td>\n",
              "    </tr>\n",
              "  </tbody>\n",
              "</table>\n",
              "</div>\n",
              "    <div class=\"colab-df-buttons\">\n",
              "\n",
              "  <div class=\"colab-df-container\">\n",
              "    <button class=\"colab-df-convert\" onclick=\"convertToInteractive('df-0e51e06f-05ed-4c51-a7e3-407cd080ab79')\"\n",
              "            title=\"Convert this dataframe to an interactive table.\"\n",
              "            style=\"display:none;\">\n",
              "\n",
              "  <svg xmlns=\"http://www.w3.org/2000/svg\" height=\"24px\" viewBox=\"0 -960 960 960\">\n",
              "    <path d=\"M120-120v-720h720v720H120Zm60-500h600v-160H180v160Zm220 220h160v-160H400v160Zm0 220h160v-160H400v160ZM180-400h160v-160H180v160Zm440 0h160v-160H620v160ZM180-180h160v-160H180v160Zm440 0h160v-160H620v160Z\"/>\n",
              "  </svg>\n",
              "    </button>\n",
              "\n",
              "  <style>\n",
              "    .colab-df-container {\n",
              "      display:flex;\n",
              "      gap: 12px;\n",
              "    }\n",
              "\n",
              "    .colab-df-convert {\n",
              "      background-color: #E8F0FE;\n",
              "      border: none;\n",
              "      border-radius: 50%;\n",
              "      cursor: pointer;\n",
              "      display: none;\n",
              "      fill: #1967D2;\n",
              "      height: 32px;\n",
              "      padding: 0 0 0 0;\n",
              "      width: 32px;\n",
              "    }\n",
              "\n",
              "    .colab-df-convert:hover {\n",
              "      background-color: #E2EBFA;\n",
              "      box-shadow: 0px 1px 2px rgba(60, 64, 67, 0.3), 0px 1px 3px 1px rgba(60, 64, 67, 0.15);\n",
              "      fill: #174EA6;\n",
              "    }\n",
              "\n",
              "    .colab-df-buttons div {\n",
              "      margin-bottom: 4px;\n",
              "    }\n",
              "\n",
              "    [theme=dark] .colab-df-convert {\n",
              "      background-color: #3B4455;\n",
              "      fill: #D2E3FC;\n",
              "    }\n",
              "\n",
              "    [theme=dark] .colab-df-convert:hover {\n",
              "      background-color: #434B5C;\n",
              "      box-shadow: 0px 1px 3px 1px rgba(0, 0, 0, 0.15);\n",
              "      filter: drop-shadow(0px 1px 2px rgba(0, 0, 0, 0.3));\n",
              "      fill: #FFFFFF;\n",
              "    }\n",
              "  </style>\n",
              "\n",
              "    <script>\n",
              "      const buttonEl =\n",
              "        document.querySelector('#df-0e51e06f-05ed-4c51-a7e3-407cd080ab79 button.colab-df-convert');\n",
              "      buttonEl.style.display =\n",
              "        google.colab.kernel.accessAllowed ? 'block' : 'none';\n",
              "\n",
              "      async function convertToInteractive(key) {\n",
              "        const element = document.querySelector('#df-0e51e06f-05ed-4c51-a7e3-407cd080ab79');\n",
              "        const dataTable =\n",
              "          await google.colab.kernel.invokeFunction('convertToInteractive',\n",
              "                                                    [key], {});\n",
              "        if (!dataTable) return;\n",
              "\n",
              "        const docLinkHtml = 'Like what you see? Visit the ' +\n",
              "          '<a target=\"_blank\" href=https://colab.research.google.com/notebooks/data_table.ipynb>data table notebook</a>'\n",
              "          + ' to learn more about interactive tables.';\n",
              "        element.innerHTML = '';\n",
              "        dataTable['output_type'] = 'display_data';\n",
              "        await google.colab.output.renderOutput(dataTable, element);\n",
              "        const docLink = document.createElement('div');\n",
              "        docLink.innerHTML = docLinkHtml;\n",
              "        element.appendChild(docLink);\n",
              "      }\n",
              "    </script>\n",
              "  </div>\n",
              "\n",
              "\n",
              "<div id=\"df-f79ffa0a-76c5-48d9-a138-55ab445185ab\">\n",
              "  <button class=\"colab-df-quickchart\" onclick=\"quickchart('df-f79ffa0a-76c5-48d9-a138-55ab445185ab')\"\n",
              "            title=\"Suggest charts\"\n",
              "            style=\"display:none;\">\n",
              "\n",
              "<svg xmlns=\"http://www.w3.org/2000/svg\" height=\"24px\"viewBox=\"0 0 24 24\"\n",
              "     width=\"24px\">\n",
              "    <g>\n",
              "        <path d=\"M19 3H5c-1.1 0-2 .9-2 2v14c0 1.1.9 2 2 2h14c1.1 0 2-.9 2-2V5c0-1.1-.9-2-2-2zM9 17H7v-7h2v7zm4 0h-2V7h2v10zm4 0h-2v-4h2v4z\"/>\n",
              "    </g>\n",
              "</svg>\n",
              "  </button>\n",
              "\n",
              "<style>\n",
              "  .colab-df-quickchart {\n",
              "      --bg-color: #E8F0FE;\n",
              "      --fill-color: #1967D2;\n",
              "      --hover-bg-color: #E2EBFA;\n",
              "      --hover-fill-color: #174EA6;\n",
              "      --disabled-fill-color: #AAA;\n",
              "      --disabled-bg-color: #DDD;\n",
              "  }\n",
              "\n",
              "  [theme=dark] .colab-df-quickchart {\n",
              "      --bg-color: #3B4455;\n",
              "      --fill-color: #D2E3FC;\n",
              "      --hover-bg-color: #434B5C;\n",
              "      --hover-fill-color: #FFFFFF;\n",
              "      --disabled-bg-color: #3B4455;\n",
              "      --disabled-fill-color: #666;\n",
              "  }\n",
              "\n",
              "  .colab-df-quickchart {\n",
              "    background-color: var(--bg-color);\n",
              "    border: none;\n",
              "    border-radius: 50%;\n",
              "    cursor: pointer;\n",
              "    display: none;\n",
              "    fill: var(--fill-color);\n",
              "    height: 32px;\n",
              "    padding: 0;\n",
              "    width: 32px;\n",
              "  }\n",
              "\n",
              "  .colab-df-quickchart:hover {\n",
              "    background-color: var(--hover-bg-color);\n",
              "    box-shadow: 0 1px 2px rgba(60, 64, 67, 0.3), 0 1px 3px 1px rgba(60, 64, 67, 0.15);\n",
              "    fill: var(--button-hover-fill-color);\n",
              "  }\n",
              "\n",
              "  .colab-df-quickchart-complete:disabled,\n",
              "  .colab-df-quickchart-complete:disabled:hover {\n",
              "    background-color: var(--disabled-bg-color);\n",
              "    fill: var(--disabled-fill-color);\n",
              "    box-shadow: none;\n",
              "  }\n",
              "\n",
              "  .colab-df-spinner {\n",
              "    border: 2px solid var(--fill-color);\n",
              "    border-color: transparent;\n",
              "    border-bottom-color: var(--fill-color);\n",
              "    animation:\n",
              "      spin 1s steps(1) infinite;\n",
              "  }\n",
              "\n",
              "  @keyframes spin {\n",
              "    0% {\n",
              "      border-color: transparent;\n",
              "      border-bottom-color: var(--fill-color);\n",
              "      border-left-color: var(--fill-color);\n",
              "    }\n",
              "    20% {\n",
              "      border-color: transparent;\n",
              "      border-left-color: var(--fill-color);\n",
              "      border-top-color: var(--fill-color);\n",
              "    }\n",
              "    30% {\n",
              "      border-color: transparent;\n",
              "      border-left-color: var(--fill-color);\n",
              "      border-top-color: var(--fill-color);\n",
              "      border-right-color: var(--fill-color);\n",
              "    }\n",
              "    40% {\n",
              "      border-color: transparent;\n",
              "      border-right-color: var(--fill-color);\n",
              "      border-top-color: var(--fill-color);\n",
              "    }\n",
              "    60% {\n",
              "      border-color: transparent;\n",
              "      border-right-color: var(--fill-color);\n",
              "    }\n",
              "    80% {\n",
              "      border-color: transparent;\n",
              "      border-right-color: var(--fill-color);\n",
              "      border-bottom-color: var(--fill-color);\n",
              "    }\n",
              "    90% {\n",
              "      border-color: transparent;\n",
              "      border-bottom-color: var(--fill-color);\n",
              "    }\n",
              "  }\n",
              "</style>\n",
              "\n",
              "  <script>\n",
              "    async function quickchart(key) {\n",
              "      const quickchartButtonEl =\n",
              "        document.querySelector('#' + key + ' button');\n",
              "      quickchartButtonEl.disabled = true;  // To prevent multiple clicks.\n",
              "      quickchartButtonEl.classList.add('colab-df-spinner');\n",
              "      try {\n",
              "        const charts = await google.colab.kernel.invokeFunction(\n",
              "            'suggestCharts', [key], {});\n",
              "      } catch (error) {\n",
              "        console.error('Error during call to suggestCharts:', error);\n",
              "      }\n",
              "      quickchartButtonEl.classList.remove('colab-df-spinner');\n",
              "      quickchartButtonEl.classList.add('colab-df-quickchart-complete');\n",
              "    }\n",
              "    (() => {\n",
              "      let quickchartButtonEl =\n",
              "        document.querySelector('#df-f79ffa0a-76c5-48d9-a138-55ab445185ab button');\n",
              "      quickchartButtonEl.style.display =\n",
              "        google.colab.kernel.accessAllowed ? 'block' : 'none';\n",
              "    })();\n",
              "  </script>\n",
              "</div>\n",
              "\n",
              "    </div>\n",
              "  </div>\n"
            ],
            "application/vnd.google.colaboratory.intrinsic+json": {
              "type": "dataframe"
            }
          },
          "metadata": {},
          "execution_count": 18
        }
      ]
    },
    {
      "cell_type": "code",
      "source": [
        "print(data.duplicated().value_counts())\n"
      ],
      "metadata": {
        "colab": {
          "base_uri": "https://localhost:8080/"
        },
        "id": "PtI1PXdkJKoO",
        "outputId": "3795b99a-d370-4fbd-d2e5-f3bef8116363"
      },
      "execution_count": null,
      "outputs": [
        {
          "output_type": "stream",
          "name": "stdout",
          "text": [
            "False    1470\n",
            "dtype: int64\n"
          ]
        }
      ]
    },
    {
      "cell_type": "code",
      "source": [
        "data.isnull().sum()"
      ],
      "metadata": {
        "colab": {
          "base_uri": "https://localhost:8080/"
        },
        "id": "hXi81r6aLaI7",
        "outputId": "2e94bcab-8fba-45e8-bffe-168d5dd23ffd"
      },
      "execution_count": null,
      "outputs": [
        {
          "output_type": "execute_result",
          "data": {
            "text/plain": [
              "Age                         0\n",
              "Attrition                   0\n",
              "BusinessTravel              0\n",
              "DailyRate                   0\n",
              "Department                  0\n",
              "DistanceFromHome            0\n",
              "Education                   0\n",
              "EducationField              0\n",
              "EmployeeCount               0\n",
              "EmployeeNumber              0\n",
              "EnvironmentSatisfaction     0\n",
              "Gender                      0\n",
              "HourlyRate                  0\n",
              "JobInvolvement              0\n",
              "JobLevel                    0\n",
              "JobRole                     0\n",
              "JobSatisfaction             0\n",
              "MaritalStatus               0\n",
              "MonthlyIncome               0\n",
              "MonthlyRate                 0\n",
              "NumCompaniesWorked          0\n",
              "Over18                      0\n",
              "OverTime                    0\n",
              "PercentSalaryHike           0\n",
              "PerformanceRating           0\n",
              "RelationshipSatisfaction    0\n",
              "StandardHours               0\n",
              "StockOptionLevel            0\n",
              "TotalWorkingYears           0\n",
              "TrainingTimesLastYear       0\n",
              "WorkLifeBalance             0\n",
              "YearsAtCompany              0\n",
              "YearsInCurrentRole          0\n",
              "YearsSinceLastPromotion     0\n",
              "YearsWithCurrManager        0\n",
              "dtype: int64"
            ]
          },
          "metadata": {},
          "execution_count": 6
        }
      ]
    },
    {
      "cell_type": "markdown",
      "source": [
        "**Target Variable**\n"
      ],
      "metadata": {
        "id": "jKaEfDVVLrjS"
      }
    },
    {
      "cell_type": "markdown",
      "source": [
        "**Exploratory Data Analysis**"
      ],
      "metadata": {
        "id": "R-o8VzAwPpsL"
      }
    },
    {
      "cell_type": "markdown",
      "source": [
        "over here we have noticed that the target variable highly imbalanced , we need to balance the data using some statistical methos\n"
      ],
      "metadata": {
        "id": "aMjnFICMPGQc"
      }
    },
    {
      "cell_type": "code",
      "source": [
        "plt.figure(figsize=(15,5))\n",
        "plt.rc(\"font\",size=14)\n",
        "sns.countplot(y='Attrition',data=data,hue='Attrition')\n",
        "\n",
        "plt.show()"
      ],
      "metadata": {
        "colab": {
          "base_uri": "https://localhost:8080/",
          "height": 441
        },
        "id": "l3j7dU9-L0ia",
        "outputId": "a612db7e-528b-42ac-f93c-880f75bf262a"
      },
      "execution_count": null,
      "outputs": [
        {
          "output_type": "display_data",
          "data": {
            "text/plain": [
              "<Figure size 1500x500 with 1 Axes>"
            ],
            "image/png": "[encoded data removed]"
          },
          "metadata": {}
        }
      ]
    },
    {
      "cell_type": "code",
      "source": [
        "# Department wrt Attrition\n",
        "plt.figure(figsize=(12,5))\n",
        "sns.countplot(x='Department', hue= 'Attrition', data=data, palette='hot')\n",
        "plt.title('Attrition w.r.t Department')\n",
        "plt.show()"
      ],
      "metadata": {
        "colab": {
          "base_uri": "https://localhost:8080/",
          "height": 501
        },
        "id": "QRt4UIInP6J4",
        "outputId": "cfe9ddb4-220a-47e5-edc2-ae3ada346cd1"
      },
      "execution_count": null,
      "outputs": [
        {
          "output_type": "display_data",
          "data": {
            "text/plain": [
              "<Figure size 1200x500 with 1 Axes>"
            ],
            "image/png": "[encoded data removed]"
          },
          "metadata": {}
        }
      ]
    },
    {
      "cell_type": "markdown",
      "source": [
        "In Human Resource department Attiriton is high, Why?  [ Because we are looking at relative attrition, not looking absolute attrition]\n",
        "\n",
        "For ex.\n",
        "100 members - 40 resign -> Resignation % => 40%\n",
        "1000 members - 40 resign -> Resignation % => 4%\n",
        "\n",
        "Absolute Num of resignation can not be used to compare these two situation.\n",
        "so, we need relative approach ->\n"
      ],
      "metadata": {
        "id": "G36JKYH2Siz4"
      }
    },
    {
      "cell_type": "code",
      "source": [
        "data['Gender'].value_counts()"
      ],
      "metadata": {
        "colab": {
          "base_uri": "https://localhost:8080/"
        },
        "id": "q07px2JND11j",
        "outputId": "b0baf8c3-3762-4c12-b877-bce89a212a33"
      },
      "execution_count": null,
      "outputs": [
        {
          "output_type": "execute_result",
          "data": {
            "text/plain": [
              "Male      882\n",
              "Female    588\n",
              "Name: Gender, dtype: int64"
            ]
          },
          "metadata": {},
          "execution_count": 22
        }
      ]
    },
    {
      "cell_type": "code",
      "source": [
        "data['count'] =1"
      ],
      "metadata": {
        "id": "5tqQ17GaGxXs"
      },
      "execution_count": null,
      "outputs": []
    },
    {
      "cell_type": "code",
      "source": [
        "data.groupby(['Gender','Attrition']).agg({'count':'sum'})"
      ],
      "metadata": {
        "colab": {
          "base_uri": "https://localhost:8080/",
          "height": 206
        },
        "id": "wOzxVBEZHF8u",
        "outputId": "c8077faf-f6a4-4eb3-8668-7a92c78df09f"
      },
      "execution_count": null,
      "outputs": [
        {
          "output_type": "execute_result",
          "data": {
            "text/plain": [
              "                  count\n",
              "Gender Attrition       \n",
              "Female No           501\n",
              "       Yes           87\n",
              "Male   No           732\n",
              "       Yes          150"
            ],
            "text/html": [
              "\n",
              "  <div id=\"df-d12d5625-7d02-4855-b4f2-bc0d0e17f014\" class=\"colab-df-container\">\n",
              "    <div>\n",
              "<style scoped>\n",
              "    .dataframe tbody tr th:only-of-type {\n",
              "        vertical-align: middle;\n",
              "    }\n",
              "\n",
              "    .dataframe tbody tr th {\n",
              "        vertical-align: top;\n",
              "    }\n",
              "\n",
              "    .dataframe thead th {\n",
              "        text-align: right;\n",
              "    }\n",
              "</style>\n",
              "<table border=\"1\" class=\"dataframe\">\n",
              "  <thead>\n",
              "    <tr style=\"text-align: right;\">\n",
              "      <th></th>\n",
              "      <th></th>\n",
              "      <th>count</th>\n",
              "    </tr>\n",
              "    <tr>\n",
              "      <th>Gender</th>\n",
              "      <th>Attrition</th>\n",
              "      <th></th>\n",
              "    </tr>\n",
              "  </thead>\n",
              "  <tbody>\n",
              "    <tr>\n",
              "      <th rowspan=\"2\" valign=\"top\">Female</th>\n",
              "      <th>No</th>\n",
              "      <td>501</td>\n",
              "    </tr>\n",
              "    <tr>\n",
              "      <th>Yes</th>\n",
              "      <td>87</td>\n",
              "    </tr>\n",
              "    <tr>\n",
              "      <th rowspan=\"2\" valign=\"top\">Male</th>\n",
              "      <th>No</th>\n",
              "      <td>732</td>\n",
              "    </tr>\n",
              "    <tr>\n",
              "      <th>Yes</th>\n",
              "      <td>150</td>\n",
              "    </tr>\n",
              "  </tbody>\n",
              "</table>\n",
              "</div>\n",
              "    <div class=\"colab-df-buttons\">\n",
              "\n",
              "  <div class=\"colab-df-container\">\n",
              "    <button class=\"colab-df-convert\" onclick=\"convertToInteractive('df-d12d5625-7d02-4855-b4f2-bc0d0e17f014')\"\n",
              "            title=\"Convert this dataframe to an interactive table.\"\n",
              "            style=\"display:none;\">\n",
              "\n",
              "  <svg xmlns=\"http://www.w3.org/2000/svg\" height=\"24px\" viewBox=\"0 -960 960 960\">\n",
              "    <path d=\"M120-120v-720h720v720H120Zm60-500h600v-160H180v160Zm220 220h160v-160H400v160Zm0 220h160v-160H400v160ZM180-400h160v-160H180v160Zm440 0h160v-160H620v160ZM180-180h160v-160H180v160Zm440 0h160v-160H620v160Z\"/>\n",
              "  </svg>\n",
              "    </button>\n",
              "\n",
              "  <style>\n",
              "    .colab-df-container {\n",
              "      display:flex;\n",
              "      gap: 12px;\n",
              "    }\n",
              "\n",
              "    .colab-df-convert {\n",
              "      background-color: #E8F0FE;\n",
              "      border: none;\n",
              "      border-radius: 50%;\n",
              "      cursor: pointer;\n",
              "      display: none;\n",
              "      fill: #1967D2;\n",
              "      height: 32px;\n",
              "      padding: 0 0 0 0;\n",
              "      width: 32px;\n",
              "    }\n",
              "\n",
              "    .colab-df-convert:hover {\n",
              "      background-color: #E2EBFA;\n",
              "      box-shadow: 0px 1px 2px rgba(60, 64, 67, 0.3), 0px 1px 3px 1px rgba(60, 64, 67, 0.15);\n",
              "      fill: #174EA6;\n",
              "    }\n",
              "\n",
              "    .colab-df-buttons div {\n",
              "      margin-bottom: 4px;\n",
              "    }\n",
              "\n",
              "    [theme=dark] .colab-df-convert {\n",
              "      background-color: #3B4455;\n",
              "      fill: #D2E3FC;\n",
              "    }\n",
              "\n",
              "    [theme=dark] .colab-df-convert:hover {\n",
              "      background-color: #434B5C;\n",
              "      box-shadow: 0px 1px 3px 1px rgba(0, 0, 0, 0.15);\n",
              "      filter: drop-shadow(0px 1px 2px rgba(0, 0, 0, 0.3));\n",
              "      fill: #FFFFFF;\n",
              "    }\n",
              "  </style>\n",
              "\n",
              "    <script>\n",
              "      const buttonEl =\n",
              "        document.querySelector('#df-d12d5625-7d02-4855-b4f2-bc0d0e17f014 button.colab-df-convert');\n",
              "      buttonEl.style.display =\n",
              "        google.colab.kernel.accessAllowed ? 'block' : 'none';\n",
              "\n",
              "      async function convertToInteractive(key) {\n",
              "        const element = document.querySelector('#df-d12d5625-7d02-4855-b4f2-bc0d0e17f014');\n",
              "        const dataTable =\n",
              "          await google.colab.kernel.invokeFunction('convertToInteractive',\n",
              "                                                    [key], {});\n",
              "        if (!dataTable) return;\n",
              "\n",
              "        const docLinkHtml = 'Like what you see? Visit the ' +\n",
              "          '<a target=\"_blank\" href=https://colab.research.google.com/notebooks/data_table.ipynb>data table notebook</a>'\n",
              "          + ' to learn more about interactive tables.';\n",
              "        element.innerHTML = '';\n",
              "        dataTable['output_type'] = 'display_data';\n",
              "        await google.colab.output.renderOutput(dataTable, element);\n",
              "        const docLink = document.createElement('div');\n",
              "        docLink.innerHTML = docLinkHtml;\n",
              "        element.appendChild(docLink);\n",
              "      }\n",
              "    </script>\n",
              "  </div>\n",
              "\n",
              "\n",
              "<div id=\"df-57850ca8-4c7e-4631-a53b-4188e66ba1a0\">\n",
              "  <button class=\"colab-df-quickchart\" onclick=\"quickchart('df-57850ca8-4c7e-4631-a53b-4188e66ba1a0')\"\n",
              "            title=\"Suggest charts\"\n",
              "            style=\"display:none;\">\n",
              "\n",
              "<svg xmlns=\"http://www.w3.org/2000/svg\" height=\"24px\"viewBox=\"0 0 24 24\"\n",
              "     width=\"24px\">\n",
              "    <g>\n",
              "        <path d=\"M19 3H5c-1.1 0-2 .9-2 2v14c0 1.1.9 2 2 2h14c1.1 0 2-.9 2-2V5c0-1.1-.9-2-2-2zM9 17H7v-7h2v7zm4 0h-2V7h2v10zm4 0h-2v-4h2v4z\"/>\n",
              "    </g>\n",
              "</svg>\n",
              "  </button>\n",
              "\n",
              "<style>\n",
              "  .colab-df-quickchart {\n",
              "      --bg-color: #E8F0FE;\n",
              "      --fill-color: #1967D2;\n",
              "      --hover-bg-color: #E2EBFA;\n",
              "      --hover-fill-color: #174EA6;\n",
              "      --disabled-fill-color: #AAA;\n",
              "      --disabled-bg-color: #DDD;\n",
              "  }\n",
              "\n",
              "  [theme=dark] .colab-df-quickchart {\n",
              "      --bg-color: #3B4455;\n",
              "      --fill-color: #D2E3FC;\n",
              "      --hover-bg-color: #434B5C;\n",
              "      --hover-fill-color: #FFFFFF;\n",
              "      --disabled-bg-color: #3B4455;\n",
              "      --disabled-fill-color: #666;\n",
              "  }\n",
              "\n",
              "  .colab-df-quickchart {\n",
              "    background-color: var(--bg-color);\n",
              "    border: none;\n",
              "    border-radius: 50%;\n",
              "    cursor: pointer;\n",
              "    display: none;\n",
              "    fill: var(--fill-color);\n",
              "    height: 32px;\n",
              "    padding: 0;\n",
              "    width: 32px;\n",
              "  }\n",
              "\n",
              "  .colab-df-quickchart:hover {\n",
              "    background-color: var(--hover-bg-color);\n",
              "    box-shadow: 0 1px 2px rgba(60, 64, 67, 0.3), 0 1px 3px 1px rgba(60, 64, 67, 0.15);\n",
              "    fill: var(--button-hover-fill-color);\n",
              "  }\n",
              "\n",
              "  .colab-df-quickchart-complete:disabled,\n",
              "  .colab-df-quickchart-complete:disabled:hover {\n",
              "    background-color: var(--disabled-bg-color);\n",
              "    fill: var(--disabled-fill-color);\n",
              "    box-shadow: none;\n",
              "  }\n",
              "\n",
              "  .colab-df-spinner {\n",
              "    border: 2px solid var(--fill-color);\n",
              "    border-color: transparent;\n",
              "    border-bottom-color: var(--fill-color);\n",
              "    animation:\n",
              "      spin 1s steps(1) infinite;\n",
              "  }\n",
              "\n",
              "  @keyframes spin {\n",
              "    0% {\n",
              "      border-color: transparent;\n",
              "      border-bottom-color: var(--fill-color);\n",
              "      border-left-color: var(--fill-color);\n",
              "    }\n",
              "    20% {\n",
              "      border-color: transparent;\n",
              "      border-left-color: var(--fill-color);\n",
              "      border-top-color: var(--fill-color);\n",
              "    }\n",
              "    30% {\n",
              "      border-color: transparent;\n",
              "      border-left-color: var(--fill-color);\n",
              "      border-top-color: var(--fill-color);\n",
              "      border-right-color: var(--fill-color);\n",
              "    }\n",
              "    40% {\n",
              "      border-color: transparent;\n",
              "      border-right-color: var(--fill-color);\n",
              "      border-top-color: var(--fill-color);\n",
              "    }\n",
              "    60% {\n",
              "      border-color: transparent;\n",
              "      border-right-color: var(--fill-color);\n",
              "    }\n",
              "    80% {\n",
              "      border-color: transparent;\n",
              "      border-right-color: var(--fill-color);\n",
              "      border-bottom-color: var(--fill-color);\n",
              "    }\n",
              "    90% {\n",
              "      border-color: transparent;\n",
              "      border-bottom-color: var(--fill-color);\n",
              "    }\n",
              "  }\n",
              "</style>\n",
              "\n",
              "  <script>\n",
              "    async function quickchart(key) {\n",
              "      const quickchartButtonEl =\n",
              "        document.querySelector('#' + key + ' button');\n",
              "      quickchartButtonEl.disabled = true;  // To prevent multiple clicks.\n",
              "      quickchartButtonEl.classList.add('colab-df-spinner');\n",
              "      try {\n",
              "        const charts = await google.colab.kernel.invokeFunction(\n",
              "            'suggestCharts', [key], {});\n",
              "      } catch (error) {\n",
              "        console.error('Error during call to suggestCharts:', error);\n",
              "      }\n",
              "      quickchartButtonEl.classList.remove('colab-df-spinner');\n",
              "      quickchartButtonEl.classList.add('colab-df-quickchart-complete');\n",
              "    }\n",
              "    (() => {\n",
              "      let quickchartButtonEl =\n",
              "        document.querySelector('#df-57850ca8-4c7e-4631-a53b-4188e66ba1a0 button');\n",
              "      quickchartButtonEl.style.display =\n",
              "        google.colab.kernel.accessAllowed ? 'block' : 'none';\n",
              "    })();\n",
              "  </script>\n",
              "</div>\n",
              "\n",
              "    </div>\n",
              "  </div>\n"
            ],
            "application/vnd.google.colaboratory.intrinsic+json": {
              "type": "dataframe",
              "summary": "{\n  \"name\": \"data\",\n  \"rows\": 4,\n  \"fields\": [\n    {\n      \"column\": \"count\",\n      \"properties\": {\n        \"dtype\": \"number\",\n        \"std\": 303,\n        \"min\": 87,\n        \"max\": 732,\n        \"num_unique_values\": 4,\n        \"samples\": [\n          87,\n          150,\n          501\n        ],\n        \"semantic_type\": \"\",\n        \"description\": \"\"\n      }\n    }\n  ]\n}"
            }
          },
          "metadata": {},
          "execution_count": 11
        }
      ]
    },
    {
      "cell_type": "code",
      "source": [
        " Female = 87/(501+87)\n",
        " Female"
      ],
      "metadata": {
        "colab": {
          "base_uri": "https://localhost:8080/"
        },
        "id": "arbIFUvdK4Ua",
        "outputId": "263570e4-ac36-4c5b-fa05-fc55f881bbc7"
      },
      "execution_count": null,
      "outputs": [
        {
          "output_type": "execute_result",
          "data": {
            "text/plain": [
              "0.14795918367346939"
            ]
          },
          "metadata": {},
          "execution_count": 23
        }
      ]
    },
    {
      "cell_type": "code",
      "source": [
        "Male = 150/(732+150)\n",
        "Male"
      ],
      "metadata": {
        "colab": {
          "base_uri": "https://localhost:8080/"
        },
        "id": "gHMaDamLMDj6",
        "outputId": "ec7a1430-d4ff-4fcf-c378-903f6eef9a5a"
      },
      "execution_count": null,
      "outputs": [
        {
          "output_type": "execute_result",
          "data": {
            "text/plain": [
              "0.17006802721088435"
            ]
          },
          "metadata": {},
          "execution_count": 24
        }
      ]
    },
    {
      "cell_type": "code",
      "source": [
        "plt.figure(figsize=(12,5))\n",
        "sns.countplot(x='EducationField', hue= 'Attrition', data=data, palette='hot')\n",
        "plt.title('Attrition w.r.t EducationField')\n",
        "plt.xticks(rotation=50)\n",
        "plt.show()"
      ],
      "metadata": {
        "colab": {
          "base_uri": "https://localhost:8080/",
          "height": 629
        },
        "id": "KfVyf8L1UjdE",
        "outputId": "09919e63-cbae-404a-a5f4-8a51f247b2fe"
      },
      "execution_count": null,
      "outputs": [
        {
          "output_type": "display_data",
          "data": {
            "text/plain": [
              "<Figure size 1200x500 with 1 Axes>"
            ],
            "image/png": "[encoded data removed]"
          },
          "metadata": {}
        }
      ]
    },
    {
      "cell_type": "code",
      "source": [
        "plt.figure(figsize=(15, 7))\n",
        "sns.countplot(\n",
        "    x=\"EducationField\",\n",
        "    hue=\"Attrition\",\n",
        "    data=data,\n",
        "    palette=\"hot\",\n",
        ")\n",
        "plt.title(\"Attrition w.r.t EducationField\")\n",
        "plt.xticks(rotation=70)\n",
        "plt.minorticks_on()\n",
        "plt.legend(title=\"Attrition\")\n",
        "plt.xlabel(\"Education Field\")\n",
        "plt.ylabel(\"Count\")\n",
        "plt.show()"
      ],
      "metadata": {
        "id": "z3S1VSl3ZNDS",
        "colab": {
          "base_uri": "https://localhost:8080/",
          "height": 747
        },
        "outputId": "a012de79-0591-4d48-b9d6-c91cfdcf2577"
      },
      "execution_count": null,
      "outputs": [
        {
          "output_type": "display_data",
          "data": {
            "text/plain": [
              "<Figure size 1500x700 with 1 Axes>"
            ],
            "image/png": "[encoded data removed]"
          },
          "metadata": {}
        }
      ]
    },
    {
      "cell_type": "code",
      "source": [
        "grouped_data=data.groupby('Attrition') ['Department'].value_counts()\n",
        "sns.countplot(x='EducationField', hue= 'Attrition', data=data, palette='hot')\n",
        "plt.xticks(rotation=70)\n",
        "plt.xlabel('EducationField')\n",
        "plt.ylabel('count')\n",
        "print(grouped_data)"
      ],
      "metadata": {
        "colab": {
          "base_uri": "https://localhost:8080/",
          "height": 751
        },
        "id": "ueRfPI5bvhsG",
        "outputId": "a31f63ff-1607-4f9c-99c4-1ea5df6e3427"
      },
      "execution_count": null,
      "outputs": [
        {
          "output_type": "stream",
          "name": "stdout",
          "text": [
            "Attrition  Department            \n",
            "No         Research & Development    828\n",
            "           Sales                     354\n",
            "           Human Resources            51\n",
            "Yes        Research & Development    133\n",
            "           Sales                      92\n",
            "           Human Resources            12\n",
            "Name: Department, dtype: int64\n"
          ]
        },
        {
          "output_type": "display_data",
          "data": {
            "text/plain": [
              "<Figure size 640x480 with 1 Axes>"
            ],
            "image/png": "[encoded data removed]"
          },
          "metadata": {}
        }
      ]
    },
    {
      "cell_type": "code",
      "source": [
        "plt.figure(figsize=(12,5))\n",
        "sns.distplot(data['Age'],hist = False)\n",
        "plt.show()"
      ],
      "metadata": {
        "colab": {
          "base_uri": "https://localhost:8080/",
          "height": 475
        },
        "id": "UhuZDWdBOzTd",
        "outputId": "1bc46f9d-b40e-48f9-c38f-d0a843c05e76"
      },
      "execution_count": null,
      "outputs": [
        {
          "output_type": "display_data",
          "data": {
            "text/plain": [
              "<Figure size 1200x500 with 1 Axes>"
            ],
            "image/png": "[encoded data removed]"
          },
          "metadata": {}
        }
      ]
    },
    {
      "cell_type": "markdown",
      "source": [
        " Age column is well normalized most of the employee are age between 25 to 40\n"
      ],
      "metadata": {
        "id": "MVo1SBWTQNsE"
      }
    },
    {
      "cell_type": "code",
      "source": [
        "edu_map= {1 : 'Below collage',2 :'collage',3 :'bachelor',4 : 'Master', 5 : 'Doctor'}\n",
        "plt.figure(figsize=(12,5))\n",
        "sns.countplot(x=data['Education'].map(edu_map),hue=\"Attrition\",data=data,palette=\"hot\")\n",
        "plt.title('Education w.r.t Attrition')\n",
        "plt.show()"
      ],
      "metadata": {
        "id": "QwABqXqCPm5Q",
        "colab": {
          "base_uri": "https://localhost:8080/",
          "height": 501
        },
        "outputId": "2e4a6045-75ae-4d54-f25f-44581badeca6"
      },
      "execution_count": null,
      "outputs": [
        {
          "output_type": "display_data",
          "data": {
            "text/plain": [
              "<Figure size 1200x500 with 1 Axes>"
            ],
            "image/png": "[encoded data removed]"
          },
          "metadata": {}
        }
      ]
    },
    {
      "cell_type": "markdown",
      "source": [
        "Employees from the Bachelor are more than from master background. Attrition wrt to Bachleor can be seem more because they have more and more expectation from the company and it will be interesting to see the reason behind in this dataset"
      ],
      "metadata": {
        "id": "4jUhKatogKHW"
      }
    },
    {
      "cell_type": "markdown",
      "source": [
        "**Label Encoding**\n"
      ],
      "metadata": {
        "id": "gv-f4WmFhLwy"
      }
    },
    {
      "cell_type": "markdown",
      "source": [
        "In Machine learning, we usaully deal with datasets that contain multiple label in one more than one columns. These labels can be in the form of words or numbers. to make this data understandable or in human-readable form, the training data is often labelled in words."
      ],
      "metadata": {
        "id": "tw3AyhhphW9F"
      }
    },
    {
      "cell_type": "code",
      "source": [
        "# machines do not understand text - machines cant predict test as wel\n",
        "# encode textual data in appropriate for the machine to learn from it and predict it\n"
      ],
      "metadata": {
        "id": "jywCL8AuhVUx"
      },
      "execution_count": null,
      "outputs": []
    },
    {
      "cell_type": "code",
      "source": [
        "# target varibale (Attrition)\n",
        "data['Attrition'] = data['Attrition'].replace({'No':0,'Yes':1})"
      ],
      "metadata": {
        "id": "739Fi2x-jKjl"
      },
      "execution_count": null,
      "outputs": []
    },
    {
      "cell_type": "code",
      "source": [
        "#encode binary variable\n",
        "data['Over18'] =data['OverTime'].map({'No':0,'Yes':1})\n",
        "data['Gender'] =data['Gender'].map({'Male':0,'Female':1})\n",
        "# for binary variable like gender ( Male, Female ) it colud have be 0 or 1 it will not impact on machine learing model"
      ],
      "metadata": {
        "id": "yAyMFjPtjrHf"
      },
      "execution_count": null,
      "outputs": []
    },
    {
      "cell_type": "code",
      "source": [
        "data['OverTime'] =data['OverTime'].map({'No':0,'Yes':1})"
      ],
      "metadata": {
        "id": "pZpyEjCsryP-"
      },
      "execution_count": null,
      "outputs": []
    },
    {
      "cell_type": "markdown",
      "source": [
        "**Machine Learning: Splitting the data into training and Testig sample**"
      ],
      "metadata": {
        "id": "jfNRmSEebSRM"
      }
    },
    {
      "cell_type": "code",
      "source": [
        "# Encode categorical columns which are ordina, use labelEncoding\n",
        "# apply label encoder to df_categorical\n",
        "from sklearn.preprocessing import LabelEncoder\n",
        "encoding_cols=['BusinessTravel','Department','EducationField','JobRole','MaritalStatus']\n",
        "label_encoders = {}\n",
        "for column in encoding_cols:\n",
        "  label_encoders[column] = LabelEncoder()\n",
        "  data[column] = label_encoders[column].fit_transform(data[column])"
      ],
      "metadata": {
        "id": "4mN8RhNDmOZa"
      },
      "execution_count": null,
      "outputs": []
    },
    {
      "cell_type": "markdown",
      "source": [
        "**Macine learning: Spliting the data into trainig and Testing sample**"
      ],
      "metadata": {
        "id": "gaLxcMUAlbKC"
      }
    },
    {
      "cell_type": "markdown",
      "source": [
        "we don't use the full data for creating the model. some data is randomly selected and kept aside for checking how good the model is. This is known as Testing Data and the reaining data is called training data on which the model is built. Typically 70% of datais used as trainig data and the rest 30% used as Testing data."
      ],
      "metadata": {
        "id": "-1_1dk2bl-F-"
      }
    },
    {
      "cell_type": "code",
      "source": [
        "X= data.drop(['Attrition'], axis =1 )\n",
        "y = data['Attrition'].values"
      ],
      "metadata": {
        "id": "hbr0VASDm6Yy"
      },
      "execution_count": null,
      "outputs": []
    },
    {
      "cell_type": "markdown",
      "source": [
        "# Should we oversample the minority calss or should we undersample the majority class?\n",
        "\n",
        "2 possible output ->\n",
        "Attrition ( 10% of the data )\n",
        "No attrition ( 90% of the data )\n",
        "\n",
        "To balance this data\n",
        "\n",
        "we can increase 10% to 90% - Oversampling -> When we have smaller dataset, we don't want to lose the information we already have\n",
        "\n",
        "we can reduce 90% to 10% - undersampling -> when we have lot of data, because we can afford to lose some data"
      ],
      "metadata": {
        "id": "6YZCeVg0pY-F"
      }
    },
    {
      "cell_type": "markdown",
      "source": [
        "**Resampling**"
      ],
      "metadata": {
        "id": "E7yRIAxhnfUH"
      }
    },
    {
      "cell_type": "markdown",
      "source": [
        "Resampling is the method that consists of drawing repeated sample from the original data sample. The method of Resampling is a nonparametric method of stastistical inferental.\n",
        "Oversapling and undersampling in data analysis are techniques to adjust the class distribution of data set. These terms are used both in statistical ampling, survey methodology and in machine learning. oversamling and udersampling are opposite and roughly equivalent techniques\n",
        "\n",
        "\n",
        "\n",
        "*   We are going to use Over sampling  \n",
        "*   We will ot use undersampling to avoid data loss\n",
        "\n",
        "\n"
      ],
      "metadata": {
        "id": "fcI4Mo5xbzuu"
      }
    },
    {
      "cell_type": "code",
      "source": [
        "from collections import Counter\n",
        "from imblearn.over_sampling import RandomOverSampler\n",
        "print(Counter(y))\n",
        "rus= RandomOverSampler(random_state=42)\n",
        "X_over, y_over = rus.fit_resample(X,y)\n",
        "print(Counter(y_over))"
      ],
      "metadata": {
        "colab": {
          "base_uri": "https://localhost:8080/"
        },
        "id": "OmAof63Lq-E6",
        "outputId": "f9fe12dc-10ee-410f-a777-5b98b23ec8ae"
      },
      "execution_count": null,
      "outputs": [
        {
          "output_type": "stream",
          "name": "stdout",
          "text": [
            "Counter({0: 1233, 1: 237})\n",
            "Counter({1: 1233, 0: 1233})\n"
          ]
        }
      ]
    },
    {
      "cell_type": "markdown",
      "source": [
        "if 10 questions is given during practice and give the answer to it eventually,\n",
        " it cannot ask any one of those 10 questions in the exam\n"
      ],
      "metadata": {
        "id": "MNPotOc_vny9"
      }
    },
    {
      "cell_type": "code",
      "source": [
        "# split the data into training and testing set\n",
        "from sklearn.model_selection import train_test_split\n",
        "X_train, X_test, y_train, y_test = train_test_split(X_over,y_over, test_size=0.2,random_state=42)"
      ],
      "metadata": {
        "id": "6I2hd3QywRPf"
      },
      "execution_count": null,
      "outputs": []
    },
    {
      "cell_type": "code",
      "source": [
        "# Sanity check for sampled data\n",
        "print(X_train.shape)\n",
        "print(y_train.shape)\n",
        "print(X_test.shape)\n",
        "print(y_test.shape)"
      ],
      "metadata": {
        "colab": {
          "base_uri": "https://localhost:8080/"
        },
        "id": "YXHxAqz5xW5o",
        "outputId": "c4b11ccc-4cf2-4512-f492-4f5c43cbb2ac"
      },
      "execution_count": null,
      "outputs": [
        {
          "output_type": "stream",
          "name": "stdout",
          "text": [
            "(1972, 34)\n",
            "(1972,)\n",
            "(494, 34)\n",
            "(494,)\n"
          ]
        }
      ]
    },
    {
      "cell_type": "markdown",
      "source": [
        "**Logistic Regression in Machine Learning**"
      ],
      "metadata": {
        "id": "kulhDZclx76r"
      }
    },
    {
      "cell_type": "markdown",
      "source": [
        "logistic Regression is used for predecting a category, specially the binary category(Yes/No,0/1)\n",
        "For example whether to approve a loan or not (Yes/No)? Which group does this customer belong to (Silver/Gold/Platinum)\n",
        "When there are only two outcomes in Target variable it is known as Binomial Logistic Regression\n",
        "\n",
        "If there are more than two outcomes in target variable it is known as Multinomial Logistic Regression\n",
        "\n",
        "If the outcomes in Target Variabe are ordinal and there is a natural ordering in the values (eg.Small<Medium<Large) then it is known as\n",
        "Ordinal Logistic Regression\n"
      ],
      "metadata": {
        "id": "PCO_cm3TyJ28"
      }
    },
    {
      "cell_type": "markdown",
      "source": [
        "![linear-regression-vs-logistic-regression.png](data:image/png;base64,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)"
      ],
      "metadata": {
        "id": "G5vIKf4SijGK"
      }
    },
    {
      "cell_type": "markdown",
      "source": [
        "Logistic regression is based on logit function logit(x) = log(x/(1-x))\n",
        "The output is a value between 0 to 1. It is the probability of an event's occurrence\n",
        "E.g There is an 80% chance that the loan application is good, approve it.\n"
      ],
      "metadata": {
        "id": "lfZAV-SEkTMv"
      }
    },
    {
      "cell_type": "markdown",
      "source": [
        "If I predict Attrition with probability = 0.2 -> No Attrition\n",
        "If I predict Attrition  with probability  = 0.85 -> Attrition\n"
      ],
      "metadata": {
        "id": "YpPQFGavnLl2"
      }
    },
    {
      "cell_type": "code",
      "source": [
        "from sklearn.linear_model import LogisticRegression\n",
        "from sklearn.metrics import confusion_matrix,accuracy_score,roc_curve , roc_auc_score"
      ],
      "metadata": {
        "id": "y1R0RP_Tn6Xs"
      },
      "execution_count": null,
      "outputs": []
    },
    {
      "cell_type": "code",
      "source": [
        "logreg = LogisticRegression()\n",
        "logreg.fit(X_train, y_train)"
      ],
      "metadata": {
        "colab": {
          "base_uri": "https://localhost:8080/",
          "height": 74
        },
        "id": "mlTGidkhpQID",
        "outputId": "5bfc5877-e53d-49d2-911b-79418c1b56d6"
      },
      "execution_count": null,
      "outputs": [
        {
          "output_type": "execute_result",
          "data": {
            "text/plain": [
              "LogisticRegression()"
            ],
            "text/html": [
              "<style>#sk-container-id-1 {color: black;background-color: white;}#sk-container-id-1 pre{padding: 0;}#sk-container-id-1 div.sk-toggleable {background-color: white;}#sk-container-id-1 label.sk-toggleable__label {cursor: pointer;display: block;width: 100%;margin-bottom: 0;padding: 0.3em;box-sizing: border-box;text-align: center;}#sk-container-id-1 label.sk-toggleable__label-arrow:before {content: \"▸\";float: left;margin-right: 0.25em;color: #696969;}#sk-container-id-1 label.sk-toggleable__label-arrow:hover:before {color: black;}#sk-container-id-1 div.sk-estimator:hover label.sk-toggleable__label-arrow:before {color: black;}#sk-container-id-1 div.sk-toggleable__content {max-height: 0;max-width: 0;overflow: hidden;text-align: left;background-color: #f0f8ff;}#sk-container-id-1 div.sk-toggleable__content pre {margin: 0.2em;color: black;border-radius: 0.25em;background-color: #f0f8ff;}#sk-container-id-1 input.sk-toggleable__control:checked~div.sk-toggleable__content {max-height: 200px;max-width: 100%;overflow: auto;}#sk-container-id-1 input.sk-toggleable__control:checked~label.sk-toggleable__label-arrow:before {content: \"▾\";}#sk-container-id-1 div.sk-estimator input.sk-toggleable__control:checked~label.sk-toggleable__label {background-color: #d4ebff;}#sk-container-id-1 div.sk-label input.sk-toggleable__control:checked~label.sk-toggleable__label {background-color: #d4ebff;}#sk-container-id-1 input.sk-hidden--visually {border: 0;clip: rect(1px 1px 1px 1px);clip: rect(1px, 1px, 1px, 1px);height: 1px;margin: -1px;overflow: hidden;padding: 0;position: absolute;width: 1px;}#sk-container-id-1 div.sk-estimator {font-family: monospace;background-color: #f0f8ff;border: 1px dotted black;border-radius: 0.25em;box-sizing: border-box;margin-bottom: 0.5em;}#sk-container-id-1 div.sk-estimator:hover {background-color: #d4ebff;}#sk-container-id-1 div.sk-parallel-item::after {content: \"\";width: 100%;border-bottom: 1px solid gray;flex-grow: 1;}#sk-container-id-1 div.sk-label:hover label.sk-toggleable__label {background-color: #d4ebff;}#sk-container-id-1 div.sk-serial::before {content: \"\";position: absolute;border-left: 1px solid gray;box-sizing: border-box;top: 0;bottom: 0;left: 50%;z-index: 0;}#sk-container-id-1 div.sk-serial {display: flex;flex-direction: column;align-items: center;background-color: white;padding-right: 0.2em;padding-left: 0.2em;position: relative;}#sk-container-id-1 div.sk-item {position: relative;z-index: 1;}#sk-container-id-1 div.sk-parallel {display: flex;align-items: stretch;justify-content: center;background-color: white;position: relative;}#sk-container-id-1 div.sk-item::before, #sk-container-id-1 div.sk-parallel-item::before {content: \"\";position: absolute;border-left: 1px solid gray;box-sizing: border-box;top: 0;bottom: 0;left: 50%;z-index: -1;}#sk-container-id-1 div.sk-parallel-item {display: flex;flex-direction: column;z-index: 1;position: relative;background-color: white;}#sk-container-id-1 div.sk-parallel-item:first-child::after {align-self: flex-end;width: 50%;}#sk-container-id-1 div.sk-parallel-item:last-child::after {align-self: flex-start;width: 50%;}#sk-container-id-1 div.sk-parallel-item:only-child::after {width: 0;}#sk-container-id-1 div.sk-dashed-wrapped {border: 1px dashed gray;margin: 0 0.4em 0.5em 0.4em;box-sizing: border-box;padding-bottom: 0.4em;background-color: white;}#sk-container-id-1 div.sk-label label {font-family: monospace;font-weight: bold;display: inline-block;line-height: 1.2em;}#sk-container-id-1 div.sk-label-container {text-align: center;}#sk-container-id-1 div.sk-container {/* jupyter's `normalize.less` sets `[hidden] { display: none; }` but bootstrap.min.css set `[hidden] { display: none !important; }` so we also need the `!important` here to be able to override the default hidden behavior on the sphinx rendered scikit-learn.org. See: https://github.com/scikit-learn/scikit-learn/issues/21755 */display: inline-block !important;position: relative;}#sk-container-id-1 div.sk-text-repr-fallback {display: none;}</style><div id=\"sk-container-id-1\" class=\"sk-top-container\"><div class=\"sk-text-repr-fallback\"><pre>LogisticRegression()</pre><b>In a Jupyter environment, please rerun this cell to show the HTML representation or trust the notebook. <br />On GitHub, the HTML representation is unable to render, please try loading this page with nbviewer.org.</b></div><div class=\"sk-container\" hidden><div class=\"sk-item\"><div class=\"sk-estimator sk-toggleable\"><input class=\"sk-toggleable__control sk-hidden--visually\" id=\"sk-estimator-id-1\" type=\"checkbox\" checked><label for=\"sk-estimator-id-1\" class=\"sk-toggleable__label sk-toggleable__label-arrow\">LogisticRegression</label><div class=\"sk-toggleable__content\"><pre>LogisticRegression()</pre></div></div></div></div></div>"
            ]
          },
          "metadata": {},
          "execution_count": 40
        }
      ]
    },
    {
      "cell_type": "code",
      "source": [
        "prediction=logreg.predict(X_test)\n",
        "cnf_matrix = confusion_matrix(y_test,prediction)\n",
        "print('Accuracy Score-',accuracy_score(y_test,prediction))\n"
      ],
      "metadata": {
        "colab": {
          "base_uri": "https://localhost:8080/"
        },
        "id": "k_dndX7irhkL",
        "outputId": "c40f89eb-4068-4436-d980-1f3e66af2204"
      },
      "execution_count": null,
      "outputs": [
        {
          "output_type": "stream",
          "name": "stdout",
          "text": [
            "Accuracy Score- 0.631578947368421\n"
          ]
        }
      ]
    },
    {
      "cell_type": "code",
      "source": [
        "fig =plt.figure(figsize=(12,6))\n",
        "ax1 = fig.add_subplot(1,2,1)\n",
        "ax1 = sns.heatmap(pd.DataFrame(cnf_matrix),annot= True,cmap= 'Blues', fmt='d')\n",
        "bottom,top = ax1.get_ylim()\n",
        "ax1.set_ylim(bottom + 0.5,top - 0.5)\n",
        "plt.xlabel('Predicted')\n",
        "plt.ylabel('Expected')\n",
        "\n",
        "ax2 = fig.add_subplot(1,2,2)\n",
        "y_pred_proba = logreg.predict_proba(X_test)[::,1]\n",
        "fpr ,tpr, _ = roc_curve(y_test, prediction)\n",
        "auc = roc_auc_score(y_test, prediction)\n",
        "ax2 =plt.plot(fpr,tpr,label = \"data 1, aus=\"+str(auc))\n",
        "plt.legend(loc=4)\n",
        "plt.show()"
      ],
      "metadata": {
        "colab": {
          "base_uri": "https://localhost:8080/",
          "height": 552
        },
        "id": "kO9gbw1lsi8P",
        "outputId": "6781efaa-d0d5-482c-9c63-4226464b0452"
      },
      "execution_count": null,
      "outputs": [
        {
          "output_type": "display_data",
          "data": {
            "text/plain": [
              "<Figure size 1200x600 with 3 Axes>"
            ],
            "image/png": "[encoded data removed]"
          },
          "metadata": {}
        }
      ]
    },
    {
      "cell_type": "markdown",
      "source": [
        "A very indepth idea of the model performance\n",
        "auc = Area under the curve"
      ],
      "metadata": {
        "id": "XkYHIDBjv7-v"
      }
    },
    {
      "cell_type": "code",
      "source": [
        "# Possible option-\n",
        "\n",
        "# Yes , No\n",
        "# 4 total  predection possibilities\n",
        "\n",
        "# Actual  ,  Predicted\n",
        "\n",
        "# Yes         Yes - Right Prediction -> True Positive\n",
        "# Yes         No - Wrong Prediction  -> False Negative\n",
        "# No          Yes - Wrong Prediction  -> False Positive\n",
        "# No          No - Right Prediction  -> True Negative\n"
      ],
      "metadata": {
        "id": "Q7hn4CfOx7ZH"
      },
      "execution_count": null,
      "outputs": []
    },
    {
      "cell_type": "code",
      "source": [
        "import pandas as pd\n",
        "from dataprep.eda import create_report\n",
        "from pandas_profiling import ProfileReport\n",
        "from IPython.display import Image\n",
        "from IPython.core.display import HTML"
      ],
      "metadata": {
        "id": "v0rjYExp_UaP"
      },
      "execution_count": null,
      "outputs": []
    },
    {
      "cell_type": "code",
      "source": [],
      "metadata": {
        "id": "D_BzHKYxkDLQ"
      },
      "execution_count": null,
      "outputs": []
    }
  ]
}
